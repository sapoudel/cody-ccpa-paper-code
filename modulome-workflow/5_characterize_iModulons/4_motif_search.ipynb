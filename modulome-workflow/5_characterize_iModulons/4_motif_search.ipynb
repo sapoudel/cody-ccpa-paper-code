{
 "cells": [
  {
   "cell_type": "code",
   "execution_count": 1,
   "metadata": {},
   "outputs": [],
   "source": [
    "from pymodulon.io import *\n",
    "from pymodulon.motif import *"
   ]
  },
  {
   "cell_type": "markdown",
   "metadata": {},
   "source": [
    "# Load Data"
   ]
  },
  {
   "cell_type": "code",
   "execution_count": 5,
   "metadata": {},
   "outputs": [],
   "source": [
    "ica_data = load_json_model(os.path.join('../data/','saureus.json.gz'))"
   ]
  },
  {
   "cell_type": "code",
   "execution_count": 6,
   "metadata": {},
   "outputs": [],
   "source": [
    "fasta_file = [os.path.join('../data/','external','genome.fasta'),\n",
    "             os.path.join('../data/','external','plasmid_pUSA01-HOU.fasta'),\n",
    "             os.path.join('../data/','external','plasmid_pUSA300HOUMR.fasta')]"
   ]
  },
  {
   "cell_type": "markdown",
   "metadata": {},
   "source": [
    "# Search for motifs"
   ]
  },
  {
   "cell_type": "code",
   "execution_count": 8,
   "metadata": {
    "scrolled": false
   },
   "outputs": [
    {
     "name": "stdout",
     "output_type": "stream",
     "text": [
      "Finding motifs for 11 sequences\n",
      "Found 2 motifs across 9 sites\n",
      "Less than two sequences found for iModulon: FruR\n",
      "Less than two sequences found for iModulon: LrgAB\n",
      "Finding motifs for 15 sequences\n",
      "Found 2 motifs across 21 sites\n",
      "Finding motifs for 3 sequences\n",
      "No motif found with E-value < 1.0e-03\n",
      "Finding motifs for 8 sequences\n",
      "Found 3 motifs across 13 sites\n",
      "Finding motifs for 4 sequences\n",
      "No motif found with E-value < 1.0e-03\n",
      "Finding motifs for 3 sequences\n",
      "Found 1 motif across 3 sites\n",
      "Finding motifs for 29 sequences\n",
      "No motif found with E-value < 1.0e-03\n",
      "Finding motifs for 2 sequences\n",
      "No motif found with E-value < 1.0e-03\n",
      "Finding motifs for 4 sequences\n",
      "No motif found with E-value < 1.0e-03\n",
      "Finding motifs for 9 sequences\n",
      "Found 3 motifs across 16 sites\n",
      "Finding motifs for 6 sequences\n",
      "No motif found with E-value < 1.0e-03\n",
      "Finding motifs for 82 sequences\n",
      "Found 2 motifs across 128 sites\n",
      "Finding motifs for 5 sequences\n",
      "Found 5 motifs across 22 sites\n",
      "Finding motifs for 3 sequences\n",
      "No motif found with E-value < 1.0e-03\n",
      "Less than two sequences found for iModulon: TA system\n",
      "Finding motifs for 5 sequences\n",
      "No motif found with E-value < 1.0e-03\n",
      "Finding motifs for 3 sequences\n",
      "No motif found with E-value < 1.0e-03\n",
      "Finding motifs for 7 sequences\n",
      "No motif found with E-value < 1.0e-03\n",
      "Finding motifs for 29 sequences\n",
      "Found 1 motif across 10 sites\n",
      "Finding motifs for 4 sequences\n",
      "No motif found with E-value < 1.0e-03\n",
      "Finding motifs for 3 sequences\n",
      "Found 1 motif across 3 sites\n",
      "Finding motifs for 3 sequences\n",
      "No motif found with E-value < 1.0e-03\n",
      "Finding motifs for 2 sequences\n",
      "No motif found with E-value < 1.0e-03\n",
      "Finding motifs for 20 sequences\n",
      "No motif found with E-value < 1.0e-03\n",
      "Finding motifs for 54 sequences\n",
      "Found 1 motif across 18 sites\n",
      "Finding motifs for 20 sequences\n",
      "No motif found with E-value < 1.0e-03\n",
      "Finding motifs for 9 sequences\n",
      "Found 1 motif across 7 sites\n",
      "Finding motifs for 47 sequences\n",
      "Found 3 motifs across 67 sites\n",
      "Finding motifs for 31 sequences\n",
      "Found 5 motifs across 74 sites\n",
      "Less than two sequences found for iModulon: ILVopr\n",
      "Finding motifs for 7 sequences\n",
      "Found 2 motifs across 9 sites\n",
      "Finding motifs for 22 sequences\n",
      "Found 4 motifs across 31 sites\n",
      "Finding motifs for 27 sequences\n",
      "No motif found with E-value < 1.0e-03\n",
      "Finding motifs for 17 sequences\n",
      "Found 5 motifs across 34 sites\n",
      "Finding motifs for 11 sequences\n",
      "No motif found with E-value < 1.0e-03\n",
      "Finding motifs for 12 sequences\n",
      "Found 1 motif across 5 sites\n",
      "Finding motifs for 48 sequences\n",
      "Found 5 motifs across 83 sites\n",
      "Finding motifs for 5 sequences\n",
      "Found 5 motifs across 22 sites\n",
      "Finding motifs for 9 sequences\n",
      "Found 5 motifs across 35 sites\n",
      "Less than two sequences found for iModulon: HssR\n",
      "Finding motifs for 8 sequences\n",
      "No motif found with E-value < 1.0e-03\n",
      "Finding motifs for 12 sequences\n",
      "Found 3 motifs across 20 sites\n",
      "Finding motifs for 11 sequences\n",
      "Found 4 motifs across 27 sites\n",
      "Finding motifs for 23 sequences\n",
      "No motif found with E-value < 1.0e-03\n",
      "Finding motifs for 2 sequences\n",
      "No motif found with E-value < 1.0e-03\n",
      "Finding motifs for 8 sequences\n",
      "Found 1 motif across 5 sites\n",
      "Finding motifs for 32 sequences\n",
      "Found 1 motif across 20 sites\n",
      "Finding motifs for 31 sequences\n",
      "Found 5 motifs across 80 sites\n",
      "Finding motifs for 5 sequences\n",
      "No motif found with E-value < 1.0e-03\n",
      "Finding motifs for 93 sequences\n",
      "Found 1 motif across 31 sites\n",
      "Less than two sequences found for iModulon: ManR\n",
      "Finding motifs for 5 sequences\n",
      "No motif found with E-value < 1.0e-03\n",
      "Finding motifs for 3 sequences\n",
      "No motif found with E-value < 1.0e-03\n",
      "Finding motifs for 28 sequences\n",
      "Found 3 motifs across 42 sites\n",
      "Finding motifs for 7 sequences\n",
      "Found 5 motifs across 29 sites\n",
      "Finding motifs for 37 sequences\n",
      "Found 1 motif across 37 sites\n",
      "Finding motifs for 3 sequences\n",
      "Found 1 motif across 3 sites\n",
      "Finding motifs for 10 sequences\n",
      "Found 1 motif across 10 sites\n",
      "Finding motifs for 10 sequences\n",
      "No motif found with E-value < 1.0e-03\n",
      "Finding motifs for 10 sequences\n",
      "No motif found with E-value < 1.0e-03\n",
      "Finding motifs for 14 sequences\n",
      "No motif found with E-value < 1.0e-03\n",
      "Finding motifs for 60 sequences\n",
      "Found 1 motif across 26 sites\n",
      "Finding motifs for 19 sequences\n",
      "Found 2 motifs across 19 sites\n",
      "Finding motifs for 16 sequences\n",
      "No motif found with E-value < 1.0e-03\n",
      "Finding motifs for 3 sequences\n",
      "No motif found with E-value < 1.0e-03\n",
      "Finding motifs for 4 sequences\n",
      "No motif found with E-value < 1.0e-03\n",
      "Finding motifs for 37 sequences\n",
      "Found 2 motifs across 35 sites\n",
      "Less than two sequences found for iModulon: Oxoproline metabolism\n",
      "Less than two sequences found for iModulon: Ascorbate transport\n",
      "Finding motifs for 6 sequences\n",
      "No motif found with E-value < 1.0e-03\n",
      "Finding motifs for 47 sequences\n",
      "No motif found with E-value < 1.0e-03\n",
      "Finding motifs for 6 sequences\n",
      "Found 2 motifs across 5 sites\n",
      "Finding motifs for 9 sequences\n",
      "No motif found with E-value < 1.0e-03\n",
      "Finding motifs for 15 sequences\n",
      "Found 1 motif across 6 sites\n"
     ]
    }
   ],
   "source": [
    "for k in ica_data.imodulon_names:\n",
    "    find_motifs(ica_data, k, fasta_file, force=False)"
   ]
  },
  {
   "cell_type": "code",
   "execution_count": 9,
   "metadata": {},
   "outputs": [
    {
     "data": {
      "text/plain": [
       "{'Vir-1': <MotifInfo with 2 motifs across 9 sites>,\n",
       " 'Autolysin': <MotifInfo with 2 motifs across 21 sites>,\n",
       " 'Phi-Sa3-1': <MotifInfo with 3 motifs across 13 sites>,\n",
       " 'LTA': <MotifInfo with 1 motif across 3 sites>,\n",
       " 'VraS2-1': <MotifInfo with 3 motifs across 16 sites>,\n",
       " 'CcpA-1': <MotifInfo with 2 motifs across 128 sites>,\n",
       " 'Beta Lactam Resistance': <MotifInfo with 5 motifs across 22 sites>,\n",
       " 'Rex-1': <MotifInfo with 1 motif across 10 sites>,\n",
       " 'FMN': <MotifInfo with 1 motif across 3 sites>,\n",
       " 'SG_3': <MotifInfo with 1 motif across 18 sites>,\n",
       " 'Genomic Island 3': <MotifInfo with 1 motif across 7 sites>,\n",
       " 'CodY-1': <MotifInfo with 3 motifs across 67 sites>,\n",
       " 'Uncharacterized-2': <MotifInfo with 5 motifs across 74 sites>,\n",
       " 'CtsR': <MotifInfo with 2 motifs across 9 sites>,\n",
       " 'Vir-2': <MotifInfo with 4 motifs across 31 sites>,\n",
       " 'SaeR-2': <MotifInfo with 5 motifs across 34 sites>,\n",
       " 'CymR': <MotifInfo with 1 motif across 5 sites>,\n",
       " 'SCCMec/ACME': <MotifInfo with 5 motifs across 83 sites>,\n",
       " 'AgrA': <MotifInfo with 5 motifs across 22 sites>,\n",
       " 'Phi-Sa3-2': <MotifInfo with 5 motifs across 35 sites>,\n",
       " 'Phi-Sa3-3': <MotifInfo with 3 motifs across 20 sites>,\n",
       " 'Translation-1': <MotifInfo with 4 motifs across 27 sites>,\n",
       " 'Uncharacterized-4': <MotifInfo with 1 motif across 5 sites>,\n",
       " 'VraS2-2': <MotifInfo with 1 motif across 20 sites>,\n",
       " 'SaeR-1': <MotifInfo with 5 motifs across 80 sites>,\n",
       " 'Uncharacterized-5': <MotifInfo with 1 motif across 31 sites>,\n",
       " 'Fur-1': <MotifInfo with 3 motifs across 42 sites>,\n",
       " 'PSM': <MotifInfo with 5 motifs across 29 sites>,\n",
       " 'MgrA': <MotifInfo with 1 motif across 37 sites>,\n",
       " 'LacR': <MotifInfo with 1 motif across 3 sites>,\n",
       " 'Rex-2': <MotifInfo with 1 motif across 10 sites>,\n",
       " 'SigB': <MotifInfo with 1 motif across 26 sites>,\n",
       " 'Uncharacterized-6': <MotifInfo with 2 motifs across 19 sites>,\n",
       " 'SigS': <MotifInfo with 2 motifs across 35 sites>,\n",
       " 'CodY-2': <MotifInfo with 2 motifs across 5 sites>,\n",
       " 'Uncharacterized-7': <MotifInfo with 1 motif across 6 sites>}"
      ]
     },
     "execution_count": 9,
     "metadata": {},
     "output_type": "execute_result"
    }
   ],
   "source": [
    "ica_data.motif_info"
   ]
  },
  {
   "cell_type": "markdown",
   "metadata": {},
   "source": [
    "# Compare motifs to known databases using TOMTOM"
   ]
  },
  {
   "cell_type": "code",
   "execution_count": 11,
   "metadata": {},
   "outputs": [],
   "source": [
    "for info in ica_data.motif_info.values():\n",
    "    compare_motifs(info)"
   ]
  },
  {
   "cell_type": "code",
   "execution_count": 12,
   "metadata": {},
   "outputs": [
    {
     "name": "stdout",
     "output_type": "stream",
     "text": [
      "CcpA-1\n",
      "Genomic Island 3\n",
      "Uncharacterized-2\n",
      "SaeR-1\n",
      "Fur-1\n",
      "MgrA\n",
      "LacR\n",
      "Rex-2\n",
      "CodY-2\n"
     ]
    }
   ],
   "source": [
    "for k in ica_data.motif_info.keys():\n",
    "    if not ica_data.motif_info[k].matches.empty:\n",
    "        print(k)"
   ]
  },
  {
   "cell_type": "code",
   "execution_count": 17,
   "metadata": {},
   "outputs": [],
   "source": [
    "save_to_json(ica_data, os.path.join('../data','saureus_imodulondb.json.gz'))"
   ]
  }
 ],
 "metadata": {
  "kernelspec": {
   "display_name": "Python 3",
   "language": "python",
   "name": "python3"
  },
  "language_info": {
   "codemirror_mode": {
    "name": "ipython",
    "version": 3
   },
   "file_extension": ".py",
   "mimetype": "text/x-python",
   "name": "python",
   "nbconvert_exporter": "python",
   "pygments_lexer": "ipython3",
   "version": "3.9.2"
  }
 },
 "nbformat": 4,
 "nbformat_minor": 4
}
