{
 "cells": [
  {
   "cell_type": "markdown",
   "metadata": {},
   "source": [
    "# Expression Quality Control (Part 2)"
   ]
  },
  {
   "cell_type": "markdown",
   "metadata": {},
   "source": [
    "This is a template notebook for performing the final quality control on your organism's expression data. This requires a curated metadata sheet."
   ]
  },
  {
   "cell_type": "markdown",
   "metadata": {},
   "source": [
    "## Setup "
   ]
  },
  {
   "cell_type": "code",
   "execution_count": 1,
   "metadata": {},
   "outputs": [],
   "source": [
    "import itertools\n",
    "\n",
    "import matplotlib.pyplot as plt\n",
    "import numpy as np\n",
    "import pandas as pd\n",
    "import seaborn as sns\n",
    "\n",
    "from os import path\n",
    "from scipy import stats\n",
    "from tqdm.notebook import tqdm"
   ]
  },
  {
   "cell_type": "code",
   "execution_count": 2,
   "metadata": {},
   "outputs": [],
   "source": [
    "sns.set_style('ticks')"
   ]
  },
  {
   "cell_type": "markdown",
   "metadata": {},
   "source": [
    "### Inputs"
   ]
  },
  {
   "cell_type": "code",
   "execution_count": 16,
   "metadata": {},
   "outputs": [],
   "source": [
    "work_dir = '../data/'"
   ]
  },
  {
   "cell_type": "code",
   "execution_count": 22,
   "metadata": {},
   "outputs": [],
   "source": [
    "logTPM_file = path.join(work_dir, 'interim', 'log_tpm_new_data.tsv') # Enter log-TPM filename here\n",
    "all_metadata_file = path.join(work_dir,'interim','metadata_qc_part1_all_new_data.tsv') # Enter full metadata filename here\n",
    "metadata_file = path.join(work_dir,'interim','metadata_qc_part1_new_data.tsv') # Enter curated metadata filename here"
   ]
  },
  {
   "cell_type": "markdown",
   "metadata": {},
   "source": [
    "### Load expression data"
   ]
  },
  {
   "cell_type": "code",
   "execution_count": 23,
   "metadata": {},
   "outputs": [
    {
     "name": "stdout",
     "output_type": "stream",
     "text": [
      "Number of genes: 2858\n",
      "Number of samples: 24\n"
     ]
    },
    {
     "data": {
      "text/html": [
       "<div>\n",
       "<style scoped>\n",
       "    .dataframe tbody tr th:only-of-type {\n",
       "        vertical-align: middle;\n",
       "    }\n",
       "\n",
       "    .dataframe tbody tr th {\n",
       "        vertical-align: top;\n",
       "    }\n",
       "\n",
       "    .dataframe thead th {\n",
       "        text-align: right;\n",
       "    }\n",
       "</style>\n",
       "<table border=\"1\" class=\"dataframe\">\n",
       "  <thead>\n",
       "    <tr style=\"text-align: right;\">\n",
       "      <th></th>\n",
       "      <th>CM_1</th>\n",
       "      <th>CM_10</th>\n",
       "      <th>CM_11</th>\n",
       "      <th>CM_12</th>\n",
       "      <th>CM_13</th>\n",
       "      <th>CM_14</th>\n",
       "      <th>CM_15</th>\n",
       "      <th>CM_16</th>\n",
       "      <th>CM_2</th>\n",
       "      <th>CM_3</th>\n",
       "      <th>...</th>\n",
       "      <th>CM_8</th>\n",
       "      <th>CM_9</th>\n",
       "      <th>SG_1</th>\n",
       "      <th>SG_2</th>\n",
       "      <th>SG_3</th>\n",
       "      <th>SG_4</th>\n",
       "      <th>SG_5</th>\n",
       "      <th>SG_6</th>\n",
       "      <th>SG_7</th>\n",
       "      <th>SG_8</th>\n",
       "    </tr>\n",
       "    <tr>\n",
       "      <th>Geneid</th>\n",
       "      <th></th>\n",
       "      <th></th>\n",
       "      <th></th>\n",
       "      <th></th>\n",
       "      <th></th>\n",
       "      <th></th>\n",
       "      <th></th>\n",
       "      <th></th>\n",
       "      <th></th>\n",
       "      <th></th>\n",
       "      <th></th>\n",
       "      <th></th>\n",
       "      <th></th>\n",
       "      <th></th>\n",
       "      <th></th>\n",
       "      <th></th>\n",
       "      <th></th>\n",
       "      <th></th>\n",
       "      <th></th>\n",
       "      <th></th>\n",
       "      <th></th>\n",
       "    </tr>\n",
       "  </thead>\n",
       "  <tbody>\n",
       "    <tr>\n",
       "      <th>USA300HOU_RS14890</th>\n",
       "      <td>0.000000</td>\n",
       "      <td>0.000000</td>\n",
       "      <td>0.000000</td>\n",
       "      <td>0.000000</td>\n",
       "      <td>0.000000</td>\n",
       "      <td>0.000000</td>\n",
       "      <td>0.000000</td>\n",
       "      <td>0.000000</td>\n",
       "      <td>0.000000</td>\n",
       "      <td>0.000000</td>\n",
       "      <td>...</td>\n",
       "      <td>0.000000</td>\n",
       "      <td>0.000000</td>\n",
       "      <td>0.000000</td>\n",
       "      <td>0.000000</td>\n",
       "      <td>0.000000</td>\n",
       "      <td>0.000000</td>\n",
       "      <td>0.000000</td>\n",
       "      <td>0.000000</td>\n",
       "      <td>0.000000</td>\n",
       "      <td>0.000000</td>\n",
       "    </tr>\n",
       "    <tr>\n",
       "      <th>USA300HOU_RS14895</th>\n",
       "      <td>0.000000</td>\n",
       "      <td>0.000000</td>\n",
       "      <td>0.000000</td>\n",
       "      <td>0.000000</td>\n",
       "      <td>0.000000</td>\n",
       "      <td>0.000000</td>\n",
       "      <td>0.000000</td>\n",
       "      <td>0.000000</td>\n",
       "      <td>0.000000</td>\n",
       "      <td>0.000000</td>\n",
       "      <td>...</td>\n",
       "      <td>0.000000</td>\n",
       "      <td>0.000000</td>\n",
       "      <td>0.000000</td>\n",
       "      <td>0.000000</td>\n",
       "      <td>0.000000</td>\n",
       "      <td>0.000000</td>\n",
       "      <td>0.000000</td>\n",
       "      <td>0.000000</td>\n",
       "      <td>0.000000</td>\n",
       "      <td>0.000000</td>\n",
       "    </tr>\n",
       "    <tr>\n",
       "      <th>USA300HOU_RS14900</th>\n",
       "      <td>0.000000</td>\n",
       "      <td>0.000000</td>\n",
       "      <td>0.000000</td>\n",
       "      <td>0.000000</td>\n",
       "      <td>0.000000</td>\n",
       "      <td>0.000000</td>\n",
       "      <td>0.000000</td>\n",
       "      <td>0.000000</td>\n",
       "      <td>0.000000</td>\n",
       "      <td>0.000000</td>\n",
       "      <td>...</td>\n",
       "      <td>0.000000</td>\n",
       "      <td>0.000000</td>\n",
       "      <td>0.000000</td>\n",
       "      <td>0.000000</td>\n",
       "      <td>0.000000</td>\n",
       "      <td>0.000000</td>\n",
       "      <td>0.000000</td>\n",
       "      <td>0.000000</td>\n",
       "      <td>0.000000</td>\n",
       "      <td>0.000000</td>\n",
       "    </tr>\n",
       "    <tr>\n",
       "      <th>USA300HOU_RS00005</th>\n",
       "      <td>8.360884</td>\n",
       "      <td>7.854564</td>\n",
       "      <td>7.976723</td>\n",
       "      <td>8.147368</td>\n",
       "      <td>8.621017</td>\n",
       "      <td>8.665520</td>\n",
       "      <td>8.080793</td>\n",
       "      <td>8.210007</td>\n",
       "      <td>8.404014</td>\n",
       "      <td>8.045027</td>\n",
       "      <td>...</td>\n",
       "      <td>8.685108</td>\n",
       "      <td>8.171252</td>\n",
       "      <td>8.705159</td>\n",
       "      <td>8.717867</td>\n",
       "      <td>8.543868</td>\n",
       "      <td>8.302141</td>\n",
       "      <td>8.162843</td>\n",
       "      <td>8.158757</td>\n",
       "      <td>8.852422</td>\n",
       "      <td>8.858093</td>\n",
       "    </tr>\n",
       "    <tr>\n",
       "      <th>USA300HOU_RS00010</th>\n",
       "      <td>9.085676</td>\n",
       "      <td>8.606412</td>\n",
       "      <td>8.714703</td>\n",
       "      <td>8.831886</td>\n",
       "      <td>9.360479</td>\n",
       "      <td>9.408799</td>\n",
       "      <td>8.725953</td>\n",
       "      <td>8.868154</td>\n",
       "      <td>9.156692</td>\n",
       "      <td>8.866969</td>\n",
       "      <td>...</td>\n",
       "      <td>9.405079</td>\n",
       "      <td>8.855490</td>\n",
       "      <td>9.090559</td>\n",
       "      <td>9.158484</td>\n",
       "      <td>8.986690</td>\n",
       "      <td>8.634742</td>\n",
       "      <td>8.724115</td>\n",
       "      <td>8.721914</td>\n",
       "      <td>9.255491</td>\n",
       "      <td>9.294506</td>\n",
       "    </tr>\n",
       "  </tbody>\n",
       "</table>\n",
       "<p>5 rows × 24 columns</p>\n",
       "</div>"
      ],
      "text/plain": [
       "                       CM_1     CM_10     CM_11     CM_12     CM_13     CM_14  \\\n",
       "Geneid                                                                          \n",
       "USA300HOU_RS14890  0.000000  0.000000  0.000000  0.000000  0.000000  0.000000   \n",
       "USA300HOU_RS14895  0.000000  0.000000  0.000000  0.000000  0.000000  0.000000   \n",
       "USA300HOU_RS14900  0.000000  0.000000  0.000000  0.000000  0.000000  0.000000   \n",
       "USA300HOU_RS00005  8.360884  7.854564  7.976723  8.147368  8.621017  8.665520   \n",
       "USA300HOU_RS00010  9.085676  8.606412  8.714703  8.831886  9.360479  9.408799   \n",
       "\n",
       "                      CM_15     CM_16      CM_2      CM_3  ...      CM_8  \\\n",
       "Geneid                                                     ...             \n",
       "USA300HOU_RS14890  0.000000  0.000000  0.000000  0.000000  ...  0.000000   \n",
       "USA300HOU_RS14895  0.000000  0.000000  0.000000  0.000000  ...  0.000000   \n",
       "USA300HOU_RS14900  0.000000  0.000000  0.000000  0.000000  ...  0.000000   \n",
       "USA300HOU_RS00005  8.080793  8.210007  8.404014  8.045027  ...  8.685108   \n",
       "USA300HOU_RS00010  8.725953  8.868154  9.156692  8.866969  ...  9.405079   \n",
       "\n",
       "                       CM_9      SG_1      SG_2      SG_3      SG_4      SG_5  \\\n",
       "Geneid                                                                          \n",
       "USA300HOU_RS14890  0.000000  0.000000  0.000000  0.000000  0.000000  0.000000   \n",
       "USA300HOU_RS14895  0.000000  0.000000  0.000000  0.000000  0.000000  0.000000   \n",
       "USA300HOU_RS14900  0.000000  0.000000  0.000000  0.000000  0.000000  0.000000   \n",
       "USA300HOU_RS00005  8.171252  8.705159  8.717867  8.543868  8.302141  8.162843   \n",
       "USA300HOU_RS00010  8.855490  9.090559  9.158484  8.986690  8.634742  8.724115   \n",
       "\n",
       "                       SG_6      SG_7      SG_8  \n",
       "Geneid                                           \n",
       "USA300HOU_RS14890  0.000000  0.000000  0.000000  \n",
       "USA300HOU_RS14895  0.000000  0.000000  0.000000  \n",
       "USA300HOU_RS14900  0.000000  0.000000  0.000000  \n",
       "USA300HOU_RS00005  8.158757  8.852422  8.858093  \n",
       "USA300HOU_RS00010  8.721914  9.255491  9.294506  \n",
       "\n",
       "[5 rows x 24 columns]"
      ]
     },
     "execution_count": 23,
     "metadata": {},
     "output_type": "execute_result"
    }
   ],
   "source": [
    "DF_log_tpm = pd.read_csv(logTPM_file,index_col=0).fillna(0)\n",
    "print('Number of genes:',DF_log_tpm.shape[0])\n",
    "print('Number of samples:',DF_log_tpm.shape[1])\n",
    "DF_log_tpm.head()"
   ]
  },
  {
   "cell_type": "markdown",
   "metadata": {},
   "source": [
    "### Load metadata"
   ]
  },
  {
   "cell_type": "code",
   "execution_count": 33,
   "metadata": {},
   "outputs": [
    {
     "name": "stdout",
     "output_type": "stream",
     "text": [
      "Number of samples with curated metadata: 24\n"
     ]
    },
    {
     "data": {
      "text/html": [
       "<div>\n",
       "<style scoped>\n",
       "    .dataframe tbody tr th:only-of-type {\n",
       "        vertical-align: middle;\n",
       "    }\n",
       "\n",
       "    .dataframe tbody tr th {\n",
       "        vertical-align: top;\n",
       "    }\n",
       "\n",
       "    .dataframe thead th {\n",
       "        text-align: right;\n",
       "    }\n",
       "</style>\n",
       "<table border=\"1\" class=\"dataframe\">\n",
       "  <thead>\n",
       "    <tr style=\"text-align: right;\">\n",
       "      <th></th>\n",
       "      <th>BioProject</th>\n",
       "      <th>BioSample</th>\n",
       "      <th>Body_Site</th>\n",
       "      <th>project</th>\n",
       "      <th>base_media</th>\n",
       "      <th>condition</th>\n",
       "      <th>growth_phase</th>\n",
       "      <th>isolate</th>\n",
       "      <th>reference_condition</th>\n",
       "      <th>skip</th>\n",
       "      <th>...</th>\n",
       "      <th>Notes</th>\n",
       "      <th>SRA ID</th>\n",
       "      <th>Biosample</th>\n",
       "      <th>GEO Series</th>\n",
       "      <th>GEO Sample</th>\n",
       "      <th>PMID</th>\n",
       "      <th>passed_replicate_correlations</th>\n",
       "      <th>genetic_changes</th>\n",
       "      <th>name</th>\n",
       "      <th>condition.1</th>\n",
       "    </tr>\n",
       "  </thead>\n",
       "  <tbody>\n",
       "    <tr>\n",
       "      <th>CM_1</th>\n",
       "      <td>CcpA CodY interaction</td>\n",
       "      <td>NaN</td>\n",
       "      <td>NaN</td>\n",
       "      <td>CcpA CodY interaction</td>\n",
       "      <td>CA-MHB</td>\n",
       "      <td>Control</td>\n",
       "      <td>exp</td>\n",
       "      <td>JE2</td>\n",
       "      <td>Control</td>\n",
       "      <td>NaN</td>\n",
       "      <td>...</td>\n",
       "      <td>NaN</td>\n",
       "      <td>NaN</td>\n",
       "      <td>NaN</td>\n",
       "      <td>NaN</td>\n",
       "      <td>NaN</td>\n",
       "      <td>NaN</td>\n",
       "      <td>NaN</td>\n",
       "      <td>WT</td>\n",
       "      <td>NaN</td>\n",
       "      <td>NaN</td>\n",
       "    </tr>\n",
       "    <tr>\n",
       "      <th>CM_10</th>\n",
       "      <td>CcpA CodY interaction</td>\n",
       "      <td>NaN</td>\n",
       "      <td>NaN</td>\n",
       "      <td>CcpA CodY interaction</td>\n",
       "      <td>CA-MHB</td>\n",
       "      <td>None</td>\n",
       "      <td>exp</td>\n",
       "      <td>JE2</td>\n",
       "      <td>Control</td>\n",
       "      <td>NaN</td>\n",
       "      <td>...</td>\n",
       "      <td>NaN</td>\n",
       "      <td>NaN</td>\n",
       "      <td>NaN</td>\n",
       "      <td>NaN</td>\n",
       "      <td>NaN</td>\n",
       "      <td>NaN</td>\n",
       "      <td>NaN</td>\n",
       "      <td>marR_TF::bursa</td>\n",
       "      <td>NE1189</td>\n",
       "      <td>NaN</td>\n",
       "    </tr>\n",
       "    <tr>\n",
       "      <th>CM_11</th>\n",
       "      <td>CcpA CodY interaction</td>\n",
       "      <td>NaN</td>\n",
       "      <td>NaN</td>\n",
       "      <td>CcpA CodY interaction</td>\n",
       "      <td>CA-MHB</td>\n",
       "      <td>None</td>\n",
       "      <td>exp</td>\n",
       "      <td>JE2</td>\n",
       "      <td>Control</td>\n",
       "      <td>NaN</td>\n",
       "      <td>...</td>\n",
       "      <td>NaN</td>\n",
       "      <td>NaN</td>\n",
       "      <td>NaN</td>\n",
       "      <td>NaN</td>\n",
       "      <td>NaN</td>\n",
       "      <td>NaN</td>\n",
       "      <td>NaN</td>\n",
       "      <td>ilvA::bursa</td>\n",
       "      <td>NE340</td>\n",
       "      <td>NaN</td>\n",
       "    </tr>\n",
       "    <tr>\n",
       "      <th>CM_12</th>\n",
       "      <td>CcpA CodY interaction</td>\n",
       "      <td>NaN</td>\n",
       "      <td>NaN</td>\n",
       "      <td>CcpA CodY interaction</td>\n",
       "      <td>CA-MHB</td>\n",
       "      <td>None</td>\n",
       "      <td>exp</td>\n",
       "      <td>JE2</td>\n",
       "      <td>Control</td>\n",
       "      <td>NaN</td>\n",
       "      <td>...</td>\n",
       "      <td>NaN</td>\n",
       "      <td>NaN</td>\n",
       "      <td>NaN</td>\n",
       "      <td>NaN</td>\n",
       "      <td>NaN</td>\n",
       "      <td>NaN</td>\n",
       "      <td>NaN</td>\n",
       "      <td>ilvA::bursa</td>\n",
       "      <td>NE340</td>\n",
       "      <td>NaN</td>\n",
       "    </tr>\n",
       "    <tr>\n",
       "      <th>CM_13</th>\n",
       "      <td>CcpA CodY interaction</td>\n",
       "      <td>NaN</td>\n",
       "      <td>NaN</td>\n",
       "      <td>CcpA CodY interaction</td>\n",
       "      <td>CA-MHB</td>\n",
       "      <td>2g/Lglucose</td>\n",
       "      <td>exp</td>\n",
       "      <td>JE2</td>\n",
       "      <td>Control</td>\n",
       "      <td>NaN</td>\n",
       "      <td>...</td>\n",
       "      <td>NaN</td>\n",
       "      <td>NaN</td>\n",
       "      <td>NaN</td>\n",
       "      <td>NaN</td>\n",
       "      <td>NaN</td>\n",
       "      <td>NaN</td>\n",
       "      <td>NaN</td>\n",
       "      <td>ilvA::bursa</td>\n",
       "      <td>NE340</td>\n",
       "      <td>NaN</td>\n",
       "    </tr>\n",
       "  </tbody>\n",
       "</table>\n",
       "<p>5 rows × 57 columns</p>\n",
       "</div>"
      ],
      "text/plain": [
       "                  BioProject  BioSample  Body_Site                project  \\\n",
       "CM_1   CcpA CodY interaction        NaN        NaN  CcpA CodY interaction   \n",
       "CM_10  CcpA CodY interaction        NaN        NaN  CcpA CodY interaction   \n",
       "CM_11  CcpA CodY interaction        NaN        NaN  CcpA CodY interaction   \n",
       "CM_12  CcpA CodY interaction        NaN        NaN  CcpA CodY interaction   \n",
       "CM_13  CcpA CodY interaction        NaN        NaN  CcpA CodY interaction   \n",
       "\n",
       "      base_media    condition growth_phase isolate reference_condition  skip  \\\n",
       "CM_1      CA-MHB      Control          exp     JE2             Control   NaN   \n",
       "CM_10     CA-MHB         None          exp     JE2             Control   NaN   \n",
       "CM_11     CA-MHB         None          exp     JE2             Control   NaN   \n",
       "CM_12     CA-MHB         None          exp     JE2             Control   NaN   \n",
       "CM_13     CA-MHB  2g/Lglucose          exp     JE2             Control   NaN   \n",
       "\n",
       "       ...  Notes  SRA ID  Biosample  GEO Series GEO Sample  PMID  \\\n",
       "CM_1   ...    NaN     NaN        NaN         NaN        NaN   NaN   \n",
       "CM_10  ...    NaN     NaN        NaN         NaN        NaN   NaN   \n",
       "CM_11  ...    NaN     NaN        NaN         NaN        NaN   NaN   \n",
       "CM_12  ...    NaN     NaN        NaN         NaN        NaN   NaN   \n",
       "CM_13  ...    NaN     NaN        NaN         NaN        NaN   NaN   \n",
       "\n",
       "       passed_replicate_correlations  genetic_changes    name  condition.1  \n",
       "CM_1                             NaN               WT     NaN          NaN  \n",
       "CM_10                            NaN   marR_TF::bursa  NE1189          NaN  \n",
       "CM_11                            NaN      ilvA::bursa   NE340          NaN  \n",
       "CM_12                            NaN      ilvA::bursa   NE340          NaN  \n",
       "CM_13                            NaN      ilvA::bursa   NE340          NaN  \n",
       "\n",
       "[5 rows x 57 columns]"
      ]
     },
     "execution_count": 33,
     "metadata": {},
     "output_type": "execute_result"
    }
   ],
   "source": [
    "DF_metadata = pd.read_csv(metadata_file,index_col=0,sep='\\t')\n",
    "print('Number of samples with curated metadata:',DF_metadata.shape[0])\n",
    "DF_metadata.head()"
   ]
  },
  {
   "cell_type": "code",
   "execution_count": 34,
   "metadata": {},
   "outputs": [],
   "source": [
    "DF_metadata_all = pd.read_csv(all_metadata_file,index_col=0,sep='\\t')"
   ]
  },
  {
   "cell_type": "markdown",
   "metadata": {},
   "source": [
    "## Remove samples due to poor metadata"
   ]
  },
  {
   "cell_type": "markdown",
   "metadata": {},
   "source": [
    "After curation, some samples either did not have enough replicates or metadata to warrant inclusion in this database."
   ]
  },
  {
   "cell_type": "code",
   "execution_count": 35,
   "metadata": {},
   "outputs": [
    {
     "name": "stdout",
     "output_type": "stream",
     "text": [
      "New number of samples with curated metadata: 24\n"
     ]
    },
    {
     "data": {
      "text/html": [
       "<div>\n",
       "<style scoped>\n",
       "    .dataframe tbody tr th:only-of-type {\n",
       "        vertical-align: middle;\n",
       "    }\n",
       "\n",
       "    .dataframe tbody tr th {\n",
       "        vertical-align: top;\n",
       "    }\n",
       "\n",
       "    .dataframe thead th {\n",
       "        text-align: right;\n",
       "    }\n",
       "</style>\n",
       "<table border=\"1\" class=\"dataframe\">\n",
       "  <thead>\n",
       "    <tr style=\"text-align: right;\">\n",
       "      <th></th>\n",
       "      <th>BioProject</th>\n",
       "      <th>BioSample</th>\n",
       "      <th>Body_Site</th>\n",
       "      <th>project</th>\n",
       "      <th>base_media</th>\n",
       "      <th>condition</th>\n",
       "      <th>growth_phase</th>\n",
       "      <th>isolate</th>\n",
       "      <th>reference_condition</th>\n",
       "      <th>skip</th>\n",
       "      <th>...</th>\n",
       "      <th>Notes</th>\n",
       "      <th>SRA ID</th>\n",
       "      <th>Biosample</th>\n",
       "      <th>GEO Series</th>\n",
       "      <th>GEO Sample</th>\n",
       "      <th>PMID</th>\n",
       "      <th>passed_replicate_correlations</th>\n",
       "      <th>genetic_changes</th>\n",
       "      <th>name</th>\n",
       "      <th>condition.1</th>\n",
       "    </tr>\n",
       "  </thead>\n",
       "  <tbody>\n",
       "    <tr>\n",
       "      <th>CM_1</th>\n",
       "      <td>CcpA CodY interaction</td>\n",
       "      <td>NaN</td>\n",
       "      <td>NaN</td>\n",
       "      <td>CcpA CodY interaction</td>\n",
       "      <td>CA-MHB</td>\n",
       "      <td>Control</td>\n",
       "      <td>exp</td>\n",
       "      <td>JE2</td>\n",
       "      <td>Control</td>\n",
       "      <td>NaN</td>\n",
       "      <td>...</td>\n",
       "      <td>NaN</td>\n",
       "      <td>NaN</td>\n",
       "      <td>NaN</td>\n",
       "      <td>NaN</td>\n",
       "      <td>NaN</td>\n",
       "      <td>NaN</td>\n",
       "      <td>NaN</td>\n",
       "      <td>WT</td>\n",
       "      <td>NaN</td>\n",
       "      <td>NaN</td>\n",
       "    </tr>\n",
       "    <tr>\n",
       "      <th>CM_10</th>\n",
       "      <td>CcpA CodY interaction</td>\n",
       "      <td>NaN</td>\n",
       "      <td>NaN</td>\n",
       "      <td>CcpA CodY interaction</td>\n",
       "      <td>CA-MHB</td>\n",
       "      <td>None</td>\n",
       "      <td>exp</td>\n",
       "      <td>JE2</td>\n",
       "      <td>Control</td>\n",
       "      <td>NaN</td>\n",
       "      <td>...</td>\n",
       "      <td>NaN</td>\n",
       "      <td>NaN</td>\n",
       "      <td>NaN</td>\n",
       "      <td>NaN</td>\n",
       "      <td>NaN</td>\n",
       "      <td>NaN</td>\n",
       "      <td>NaN</td>\n",
       "      <td>marR_TF::bursa</td>\n",
       "      <td>NE1189</td>\n",
       "      <td>NaN</td>\n",
       "    </tr>\n",
       "    <tr>\n",
       "      <th>CM_11</th>\n",
       "      <td>CcpA CodY interaction</td>\n",
       "      <td>NaN</td>\n",
       "      <td>NaN</td>\n",
       "      <td>CcpA CodY interaction</td>\n",
       "      <td>CA-MHB</td>\n",
       "      <td>None</td>\n",
       "      <td>exp</td>\n",
       "      <td>JE2</td>\n",
       "      <td>Control</td>\n",
       "      <td>NaN</td>\n",
       "      <td>...</td>\n",
       "      <td>NaN</td>\n",
       "      <td>NaN</td>\n",
       "      <td>NaN</td>\n",
       "      <td>NaN</td>\n",
       "      <td>NaN</td>\n",
       "      <td>NaN</td>\n",
       "      <td>NaN</td>\n",
       "      <td>ilvA::bursa</td>\n",
       "      <td>NE340</td>\n",
       "      <td>NaN</td>\n",
       "    </tr>\n",
       "    <tr>\n",
       "      <th>CM_12</th>\n",
       "      <td>CcpA CodY interaction</td>\n",
       "      <td>NaN</td>\n",
       "      <td>NaN</td>\n",
       "      <td>CcpA CodY interaction</td>\n",
       "      <td>CA-MHB</td>\n",
       "      <td>None</td>\n",
       "      <td>exp</td>\n",
       "      <td>JE2</td>\n",
       "      <td>Control</td>\n",
       "      <td>NaN</td>\n",
       "      <td>...</td>\n",
       "      <td>NaN</td>\n",
       "      <td>NaN</td>\n",
       "      <td>NaN</td>\n",
       "      <td>NaN</td>\n",
       "      <td>NaN</td>\n",
       "      <td>NaN</td>\n",
       "      <td>NaN</td>\n",
       "      <td>ilvA::bursa</td>\n",
       "      <td>NE340</td>\n",
       "      <td>NaN</td>\n",
       "    </tr>\n",
       "    <tr>\n",
       "      <th>CM_13</th>\n",
       "      <td>CcpA CodY interaction</td>\n",
       "      <td>NaN</td>\n",
       "      <td>NaN</td>\n",
       "      <td>CcpA CodY interaction</td>\n",
       "      <td>CA-MHB</td>\n",
       "      <td>2g/Lglucose</td>\n",
       "      <td>exp</td>\n",
       "      <td>JE2</td>\n",
       "      <td>Control</td>\n",
       "      <td>NaN</td>\n",
       "      <td>...</td>\n",
       "      <td>NaN</td>\n",
       "      <td>NaN</td>\n",
       "      <td>NaN</td>\n",
       "      <td>NaN</td>\n",
       "      <td>NaN</td>\n",
       "      <td>NaN</td>\n",
       "      <td>NaN</td>\n",
       "      <td>ilvA::bursa</td>\n",
       "      <td>NE340</td>\n",
       "      <td>NaN</td>\n",
       "    </tr>\n",
       "  </tbody>\n",
       "</table>\n",
       "<p>5 rows × 57 columns</p>\n",
       "</div>"
      ],
      "text/plain": [
       "                  BioProject  BioSample  Body_Site                project  \\\n",
       "CM_1   CcpA CodY interaction        NaN        NaN  CcpA CodY interaction   \n",
       "CM_10  CcpA CodY interaction        NaN        NaN  CcpA CodY interaction   \n",
       "CM_11  CcpA CodY interaction        NaN        NaN  CcpA CodY interaction   \n",
       "CM_12  CcpA CodY interaction        NaN        NaN  CcpA CodY interaction   \n",
       "CM_13  CcpA CodY interaction        NaN        NaN  CcpA CodY interaction   \n",
       "\n",
       "      base_media    condition growth_phase isolate reference_condition  skip  \\\n",
       "CM_1      CA-MHB      Control          exp     JE2             Control   NaN   \n",
       "CM_10     CA-MHB         None          exp     JE2             Control   NaN   \n",
       "CM_11     CA-MHB         None          exp     JE2             Control   NaN   \n",
       "CM_12     CA-MHB         None          exp     JE2             Control   NaN   \n",
       "CM_13     CA-MHB  2g/Lglucose          exp     JE2             Control   NaN   \n",
       "\n",
       "       ...  Notes  SRA ID  Biosample  GEO Series GEO Sample  PMID  \\\n",
       "CM_1   ...    NaN     NaN        NaN         NaN        NaN   NaN   \n",
       "CM_10  ...    NaN     NaN        NaN         NaN        NaN   NaN   \n",
       "CM_11  ...    NaN     NaN        NaN         NaN        NaN   NaN   \n",
       "CM_12  ...    NaN     NaN        NaN         NaN        NaN   NaN   \n",
       "CM_13  ...    NaN     NaN        NaN         NaN        NaN   NaN   \n",
       "\n",
       "       passed_replicate_correlations  genetic_changes    name  condition.1  \n",
       "CM_1                             NaN               WT     NaN          NaN  \n",
       "CM_10                            NaN   marR_TF::bursa  NE1189          NaN  \n",
       "CM_11                            NaN      ilvA::bursa   NE340          NaN  \n",
       "CM_12                            NaN      ilvA::bursa   NE340          NaN  \n",
       "CM_13                            NaN      ilvA::bursa   NE340          NaN  \n",
       "\n",
       "[5 rows x 57 columns]"
      ]
     },
     "execution_count": 35,
     "metadata": {},
     "output_type": "execute_result"
    }
   ],
   "source": [
    "DF_metadata_passed_step4 = DF_metadata[~DF_metadata.skip.fillna(False)].copy()\n",
    "print('New number of samples with curated metadata:',DF_metadata_passed_step4.shape[0])\n",
    "DF_metadata_passed_step4.head()"
   ]
  },
  {
   "cell_type": "markdown",
   "metadata": {},
   "source": [
    "### Check curation\n",
    "Since manual curation is error-prone, we want to make sure that all samples have labels for their project and condition. In addition, there should only be one reference condition in each project, and it should be in the project itself.\n",
    "\n",
    "Any samples that fail these checks will be printed below."
   ]
  },
  {
   "cell_type": "code",
   "execution_count": 36,
   "metadata": {},
   "outputs": [],
   "source": [
    "assert(DF_metadata_passed_step4.project.notnull().all())\n",
    "assert(DF_metadata_passed_step4.condition.notnull().all())\n",
    "\n",
    "for name,group in DF_metadata_passed_step4.groupby('project'):\n",
    "    ref_cond = group.reference_condition.unique()\n",
    "    \n",
    "    # Ensure that there is only one reference condition per project\n",
    "    if not len(ref_cond) == 1:\n",
    "        print('Multiple reference conditions for:, name')\n",
    "    \n",
    "    # Ensure the reference condition is in fact in the project\n",
    "    ref_cond = ref_cond[0]\n",
    "    if not ref_cond in group.condition.tolist():\n",
    "        print('Reference condition not in project:', name)"
   ]
  },
  {
   "cell_type": "markdown",
   "metadata": {},
   "source": [
    "Next, make a new column called ``full_name`` that gives every experimental condition a unique, human-readable identifier."
   ]
  },
  {
   "cell_type": "code",
   "execution_count": 38,
   "metadata": {},
   "outputs": [],
   "source": [
    "# sample full_name is based on these values\n",
    "cat_cols = ['base_media', 'condition', 'growth_phase', 'isolate', 'genetic_changes'] \n",
    "\n",
    "DF_metadata_passed_step4['full_name'] = DF_metadata_passed_step4['project'].str.cat(DF_metadata_passed_step4[cat_cols],sep=':')"
   ]
  },
  {
   "cell_type": "markdown",
   "metadata": {},
   "source": [
    "### Remove samples with only one replicate"
   ]
  },
  {
   "cell_type": "markdown",
   "metadata": {},
   "source": [
    "First, find sample names that have at least two replicates."
   ]
  },
  {
   "cell_type": "code",
   "execution_count": 39,
   "metadata": {},
   "outputs": [
    {
     "name": "stdout",
     "output_type": "stream",
     "text": [
      "Index(['Sugar Effect:CDM:2g/Lpyruvate:exp:JE2:WT',\n",
      "       'CcpA CodY interaction:CA-MHB:2g/Lglucose:exp:JE2:ccpA::bursa',\n",
      "       'CcpA CodY interaction:CA-MHB:None:exp:JE2:ilvA::bursa',\n",
      "       'Sugar Effect:CDM:10g/Lglucose:exp:JE2:WT',\n",
      "       'Sugar Effect:CDM:Control:exp:JE2:WT'],\n",
      "      dtype='object')\n"
     ]
    }
   ],
   "source": [
    "counts = DF_metadata_passed_step4.full_name.value_counts()\n",
    "keep_samples = counts[counts >= 2].index\n",
    "print(keep_samples[:5])"
   ]
  },
  {
   "cell_type": "code",
   "execution_count": 40,
   "metadata": {},
   "outputs": [
    {
     "data": {
      "text/plain": [
       "[]"
      ]
     },
     "execution_count": 40,
     "metadata": {},
     "output_type": "execute_result"
    }
   ],
   "source": [
    "sorted(counts[counts == 1].index)"
   ]
  },
  {
   "cell_type": "markdown",
   "metadata": {},
   "source": [
    "Only keep these samples"
   ]
  },
  {
   "cell_type": "code",
   "execution_count": 41,
   "metadata": {},
   "outputs": [
    {
     "name": "stdout",
     "output_type": "stream",
     "text": [
      "New number of samples with curated metadata: 24\n"
     ]
    },
    {
     "data": {
      "text/html": [
       "<div>\n",
       "<style scoped>\n",
       "    .dataframe tbody tr th:only-of-type {\n",
       "        vertical-align: middle;\n",
       "    }\n",
       "\n",
       "    .dataframe tbody tr th {\n",
       "        vertical-align: top;\n",
       "    }\n",
       "\n",
       "    .dataframe thead th {\n",
       "        text-align: right;\n",
       "    }\n",
       "</style>\n",
       "<table border=\"1\" class=\"dataframe\">\n",
       "  <thead>\n",
       "    <tr style=\"text-align: right;\">\n",
       "      <th></th>\n",
       "      <th>BioProject</th>\n",
       "      <th>BioSample</th>\n",
       "      <th>Body_Site</th>\n",
       "      <th>project</th>\n",
       "      <th>base_media</th>\n",
       "      <th>condition</th>\n",
       "      <th>growth_phase</th>\n",
       "      <th>isolate</th>\n",
       "      <th>reference_condition</th>\n",
       "      <th>skip</th>\n",
       "      <th>...</th>\n",
       "      <th>Notes</th>\n",
       "      <th>SRA ID</th>\n",
       "      <th>Biosample</th>\n",
       "      <th>GEO Series</th>\n",
       "      <th>GEO Sample</th>\n",
       "      <th>PMID</th>\n",
       "      <th>passed_replicate_correlations</th>\n",
       "      <th>genetic_changes</th>\n",
       "      <th>name</th>\n",
       "      <th>condition.1</th>\n",
       "    </tr>\n",
       "  </thead>\n",
       "  <tbody>\n",
       "    <tr>\n",
       "      <th>CM_1</th>\n",
       "      <td>CcpA CodY interaction</td>\n",
       "      <td>NaN</td>\n",
       "      <td>NaN</td>\n",
       "      <td>CcpA CodY interaction</td>\n",
       "      <td>CA-MHB</td>\n",
       "      <td>Control</td>\n",
       "      <td>exp</td>\n",
       "      <td>JE2</td>\n",
       "      <td>Control</td>\n",
       "      <td>NaN</td>\n",
       "      <td>...</td>\n",
       "      <td>NaN</td>\n",
       "      <td>NaN</td>\n",
       "      <td>NaN</td>\n",
       "      <td>NaN</td>\n",
       "      <td>NaN</td>\n",
       "      <td>NaN</td>\n",
       "      <td>NaN</td>\n",
       "      <td>WT</td>\n",
       "      <td>NaN</td>\n",
       "      <td>NaN</td>\n",
       "    </tr>\n",
       "    <tr>\n",
       "      <th>CM_10</th>\n",
       "      <td>CcpA CodY interaction</td>\n",
       "      <td>NaN</td>\n",
       "      <td>NaN</td>\n",
       "      <td>CcpA CodY interaction</td>\n",
       "      <td>CA-MHB</td>\n",
       "      <td>None</td>\n",
       "      <td>exp</td>\n",
       "      <td>JE2</td>\n",
       "      <td>Control</td>\n",
       "      <td>NaN</td>\n",
       "      <td>...</td>\n",
       "      <td>NaN</td>\n",
       "      <td>NaN</td>\n",
       "      <td>NaN</td>\n",
       "      <td>NaN</td>\n",
       "      <td>NaN</td>\n",
       "      <td>NaN</td>\n",
       "      <td>NaN</td>\n",
       "      <td>marR_TF::bursa</td>\n",
       "      <td>NE1189</td>\n",
       "      <td>NaN</td>\n",
       "    </tr>\n",
       "    <tr>\n",
       "      <th>CM_11</th>\n",
       "      <td>CcpA CodY interaction</td>\n",
       "      <td>NaN</td>\n",
       "      <td>NaN</td>\n",
       "      <td>CcpA CodY interaction</td>\n",
       "      <td>CA-MHB</td>\n",
       "      <td>None</td>\n",
       "      <td>exp</td>\n",
       "      <td>JE2</td>\n",
       "      <td>Control</td>\n",
       "      <td>NaN</td>\n",
       "      <td>...</td>\n",
       "      <td>NaN</td>\n",
       "      <td>NaN</td>\n",
       "      <td>NaN</td>\n",
       "      <td>NaN</td>\n",
       "      <td>NaN</td>\n",
       "      <td>NaN</td>\n",
       "      <td>NaN</td>\n",
       "      <td>ilvA::bursa</td>\n",
       "      <td>NE340</td>\n",
       "      <td>NaN</td>\n",
       "    </tr>\n",
       "    <tr>\n",
       "      <th>CM_12</th>\n",
       "      <td>CcpA CodY interaction</td>\n",
       "      <td>NaN</td>\n",
       "      <td>NaN</td>\n",
       "      <td>CcpA CodY interaction</td>\n",
       "      <td>CA-MHB</td>\n",
       "      <td>None</td>\n",
       "      <td>exp</td>\n",
       "      <td>JE2</td>\n",
       "      <td>Control</td>\n",
       "      <td>NaN</td>\n",
       "      <td>...</td>\n",
       "      <td>NaN</td>\n",
       "      <td>NaN</td>\n",
       "      <td>NaN</td>\n",
       "      <td>NaN</td>\n",
       "      <td>NaN</td>\n",
       "      <td>NaN</td>\n",
       "      <td>NaN</td>\n",
       "      <td>ilvA::bursa</td>\n",
       "      <td>NE340</td>\n",
       "      <td>NaN</td>\n",
       "    </tr>\n",
       "    <tr>\n",
       "      <th>CM_13</th>\n",
       "      <td>CcpA CodY interaction</td>\n",
       "      <td>NaN</td>\n",
       "      <td>NaN</td>\n",
       "      <td>CcpA CodY interaction</td>\n",
       "      <td>CA-MHB</td>\n",
       "      <td>2g/Lglucose</td>\n",
       "      <td>exp</td>\n",
       "      <td>JE2</td>\n",
       "      <td>Control</td>\n",
       "      <td>NaN</td>\n",
       "      <td>...</td>\n",
       "      <td>NaN</td>\n",
       "      <td>NaN</td>\n",
       "      <td>NaN</td>\n",
       "      <td>NaN</td>\n",
       "      <td>NaN</td>\n",
       "      <td>NaN</td>\n",
       "      <td>NaN</td>\n",
       "      <td>ilvA::bursa</td>\n",
       "      <td>NE340</td>\n",
       "      <td>NaN</td>\n",
       "    </tr>\n",
       "  </tbody>\n",
       "</table>\n",
       "<p>5 rows × 57 columns</p>\n",
       "</div>"
      ],
      "text/plain": [
       "                  BioProject  BioSample  Body_Site                project  \\\n",
       "CM_1   CcpA CodY interaction        NaN        NaN  CcpA CodY interaction   \n",
       "CM_10  CcpA CodY interaction        NaN        NaN  CcpA CodY interaction   \n",
       "CM_11  CcpA CodY interaction        NaN        NaN  CcpA CodY interaction   \n",
       "CM_12  CcpA CodY interaction        NaN        NaN  CcpA CodY interaction   \n",
       "CM_13  CcpA CodY interaction        NaN        NaN  CcpA CodY interaction   \n",
       "\n",
       "      base_media    condition growth_phase isolate reference_condition  skip  \\\n",
       "CM_1      CA-MHB      Control          exp     JE2             Control   NaN   \n",
       "CM_10     CA-MHB         None          exp     JE2             Control   NaN   \n",
       "CM_11     CA-MHB         None          exp     JE2             Control   NaN   \n",
       "CM_12     CA-MHB         None          exp     JE2             Control   NaN   \n",
       "CM_13     CA-MHB  2g/Lglucose          exp     JE2             Control   NaN   \n",
       "\n",
       "       ...  Notes  SRA ID  Biosample  GEO Series GEO Sample  PMID  \\\n",
       "CM_1   ...    NaN     NaN        NaN         NaN        NaN   NaN   \n",
       "CM_10  ...    NaN     NaN        NaN         NaN        NaN   NaN   \n",
       "CM_11  ...    NaN     NaN        NaN         NaN        NaN   NaN   \n",
       "CM_12  ...    NaN     NaN        NaN         NaN        NaN   NaN   \n",
       "CM_13  ...    NaN     NaN        NaN         NaN        NaN   NaN   \n",
       "\n",
       "       passed_replicate_correlations  genetic_changes    name  condition.1  \n",
       "CM_1                             NaN               WT     NaN          NaN  \n",
       "CM_10                            NaN   marR_TF::bursa  NE1189          NaN  \n",
       "CM_11                            NaN      ilvA::bursa   NE340          NaN  \n",
       "CM_12                            NaN      ilvA::bursa   NE340          NaN  \n",
       "CM_13                            NaN      ilvA::bursa   NE340          NaN  \n",
       "\n",
       "[5 rows x 57 columns]"
      ]
     },
     "execution_count": 41,
     "metadata": {},
     "output_type": "execute_result"
    }
   ],
   "source": [
    "DF_metadata_passed_step4 = DF_metadata_passed_step4[DF_metadata_passed_step4.full_name.isin(keep_samples)]\n",
    "print('New number of samples with curated metadata:',DF_metadata_passed_step4.shape[0])\n",
    "DF_metadata_passed_step4.head()"
   ]
  },
  {
   "cell_type": "markdown",
   "metadata": {},
   "source": [
    "### Save this information to the full metadata dataframe"
   ]
  },
  {
   "cell_type": "code",
   "execution_count": 42,
   "metadata": {},
   "outputs": [],
   "source": [
    "DF_metadata_all['passed_curation'] = DF_metadata_all.index.isin(DF_metadata_passed_step4.index)"
   ]
  },
  {
   "cell_type": "markdown",
   "metadata": {},
   "source": [
    "## Check correlations between replicates"
   ]
  },
  {
   "cell_type": "markdown",
   "metadata": {},
   "source": [
    "### Remove failed data from log_tpm files"
   ]
  },
  {
   "cell_type": "code",
   "execution_count": 43,
   "metadata": {},
   "outputs": [],
   "source": [
    "DF_log_tpm = DF_log_tpm[DF_metadata_passed_step4.index]"
   ]
  },
  {
   "cell_type": "markdown",
   "metadata": {},
   "source": [
    "### Compute Pearson R Score"
   ]
  },
  {
   "cell_type": "markdown",
   "metadata": {},
   "source": [
    "Biological replicates should have a Pearson R correlation above 0.95. For samples with more than 2 replicates, the replicates must have R >= 0.95 with at least one other replicate or it will be dropped. The correlation threshold can be changed below:"
   ]
  },
  {
   "cell_type": "code",
   "execution_count": 44,
   "metadata": {},
   "outputs": [],
   "source": [
    "rcutoff = 0.9"
   ]
  },
  {
   "cell_type": "markdown",
   "metadata": {},
   "source": [
    "The following code computes correlations between all samples and collects correlations between replicates and non-replicates."
   ]
  },
  {
   "cell_type": "code",
   "execution_count": 45,
   "metadata": {},
   "outputs": [
    {
     "data": {
      "application/vnd.jupyter.widget-view+json": {
       "model_id": "2b6f4a03cfb4459ebe5fb5c0cd593b64",
       "version_major": 2,
       "version_minor": 0
      },
      "text/plain": [
       "  0%|          | 0/276.0 [00:00<?, ?it/s]"
      ]
     },
     "metadata": {},
     "output_type": "display_data"
    }
   ],
   "source": [
    "rep_corrs = {}\n",
    "rand_corrs = {}\n",
    "\n",
    "num_comparisons = len(DF_metadata_passed_step4)*(len(DF_metadata_passed_step4)-1)/2\n",
    "\n",
    "for exp1,exp2 in tqdm(itertools.combinations(DF_metadata_passed_step4.index,2),total=num_comparisons):\n",
    "    if DF_metadata_passed_step4.loc[exp1,'full_name'] == DF_metadata_passed_step4.loc[exp2,'full_name']:\n",
    "        rep_corrs[(exp1,exp2)] = stats.pearsonr(DF_log_tpm[exp1],DF_log_tpm[exp2])[0]\n",
    "    else:\n",
    "        rand_corrs[(exp1,exp2)] = stats.pearsonr(DF_log_tpm[exp1],DF_log_tpm[exp2])[0]"
   ]
  },
  {
   "cell_type": "markdown",
   "metadata": {},
   "source": [
    "Correlations can be plotted on a histogram"
   ]
  },
  {
   "cell_type": "code",
   "execution_count": 46,
   "metadata": {},
   "outputs": [
    {
     "name": "stdout",
     "output_type": "stream",
     "text": [
      "Median Pearson R between replicates: 0.99\n"
     ]
    },
    {
     "data": {
      "image/png": "[encoded data removed]",
      "text/plain": [
       "<Figure size 360x360 with 2 Axes>"
      ]
     },
     "metadata": {},
     "output_type": "display_data"
    }
   ],
   "source": [
    "fig,ax = plt.subplots(figsize=(5,5))\n",
    "ax2 = ax.twinx()\n",
    "ax2.hist(rep_corrs.values(),bins=50,range=(0.2,1),alpha=0.8,color='green',linewidth=0)\n",
    "ax.hist(rand_corrs.values(),bins=50,range=(0.2,1),alpha=0.8,color='blue',linewidth=0)\n",
    "ax.set_title('Pearson R correlation between experiments',fontsize=14)\n",
    "ax.set_xlabel('Pearson R correlation',fontsize=14)\n",
    "ax.set_ylabel('Different Conditions',fontsize=14)\n",
    "ax2.set_ylabel('Known Replicates',fontsize=14)\n",
    "\n",
    "med_corr = np.median([v for k,v in rep_corrs.items()])\n",
    "print('Median Pearson R between replicates: {:.2f}'.format(med_corr))"
   ]
  },
  {
   "cell_type": "markdown",
   "metadata": {},
   "source": [
    "Remove samples without any high-correlation replicates"
   ]
  },
  {
   "cell_type": "code",
   "execution_count": 54,
   "metadata": {},
   "outputs": [],
   "source": [
    "dissimilar = []\n",
    "for idx, grp in DF_metadata_passed_step4.groupby('full_name'):\n",
    "    ident = np.identity(len(grp))\n",
    "    corrs = (DF_log_tpm[grp.index].corr() - ident).max()\n",
    "    dissimilar.extend(corrs[corrs<rcutoff].index)\n",
    "\n",
    "# Save this information in both the original metadata dataframe and the new metadata dataframe\n",
    "DF_metadata_all['passed_replicate_correlations'] = ~DF_metadata_all.index.isin(dissimilar)\n",
    "DF_metadata_passed_step4['passed_replicate_correlations'] = ~DF_metadata_passed_step4.index.isin(dissimilar)"
   ]
  },
  {
   "cell_type": "code",
   "execution_count": 55,
   "metadata": {},
   "outputs": [
    {
     "name": "stdout",
     "output_type": "stream",
     "text": [
      "# Samples that passed replicate correlations: 24\n"
     ]
    }
   ],
   "source": [
    "DF_metadata_final = DF_metadata_passed_step4[DF_metadata_passed_step4['passed_replicate_correlations']]\n",
    "print('# Samples that passed replicate correlations:',len(DF_metadata_final))"
   ]
  },
  {
   "cell_type": "markdown",
   "metadata": {},
   "source": [
    "## Check that reference conditions still exist\n",
    "If a reference condition was removed due to poor replicate correlations, a new reference condition needs to be defined.\n",
    "\n",
    "Again, any samples that fail these checks will be printed below."
   ]
  },
  {
   "cell_type": "code",
   "execution_count": 56,
   "metadata": {},
   "outputs": [],
   "source": [
    "project_exprs = []\n",
    "for name,group in DF_metadata_final.groupby('project'):\n",
    "    \n",
    "    # Get reference condition\n",
    "    ref_cond = group.reference_condition.iloc[0]\n",
    "    \n",
    "    # Ensure the reference condition is still in the project\n",
    "    if ref_cond not in group.condition.tolist():\n",
    "        print('Reference condition missing from:', name)\n",
    "    \n",
    "    # Check that each project has at least two conditions (a reference and at least one test condition)\n",
    "    if len(group.condition.unique()) <= 1:\n",
    "        print('Only one condition in:', name)"
   ]
  },
  {
   "cell_type": "markdown",
   "metadata": {},
   "source": [
    "If necessary, choose a new condition for failed projects and re-run notebook."
   ]
  },
  {
   "cell_type": "markdown",
   "metadata": {},
   "source": [
    "## Normalize dataset to reference conditions"
   ]
  },
  {
   "cell_type": "code",
   "execution_count": 57,
   "metadata": {},
   "outputs": [],
   "source": [
    "DF_log_tpm_final = DF_log_tpm[DF_metadata_final.index]"
   ]
  },
  {
   "cell_type": "code",
   "execution_count": 58,
   "metadata": {},
   "outputs": [],
   "source": [
    "project_exprs = []\n",
    "for name,group in DF_metadata_final.groupby('project'):\n",
    "    \n",
    "    # Get reference condition\n",
    "    ref_cond = group.reference_condition.iloc[0]\n",
    "    \n",
    "    # Get reference condition sample ids\n",
    "    ref_samples = group[group.condition == ref_cond].index\n",
    "    \n",
    "    # Get reference condition expression\n",
    "    ref_expr = DF_log_tpm_final[ref_samples].mean(axis=1)\n",
    "    \n",
    "    # Subtract reference expression from project\n",
    "    project_exprs.append(DF_log_tpm_final[group.index].sub(ref_expr,axis=0))\n",
    "\n",
    "DF_log_tpm_norm = pd.concat(project_exprs,axis=1)"
   ]
  },
  {
   "cell_type": "markdown",
   "metadata": {},
   "source": [
    "## Save final datasets"
   ]
  },
  {
   "cell_type": "code",
   "execution_count": 63,
   "metadata": {},
   "outputs": [],
   "source": [
    "# need to combine the datasets\n",
    "old_tpm = pd.read_csv('../data/processed_data/log_tpm.csv',\n",
    "                     index_col=0)\n",
    "remove_samps = [i for i in old_tpm if 'Muc' in i or 'Zeng' in i]\n",
    "old_tpm = old_tpm.drop(remove_samps, axis=1)"
   ]
  },
  {
   "cell_type": "code",
   "execution_count": 72,
   "metadata": {},
   "outputs": [],
   "source": [
    "DF_log_tpm_final = pd.concat([DF_log_tpm_final, old_tpm], axis=1).fillna(0)"
   ]
  },
  {
   "cell_type": "code",
   "execution_count": 65,
   "metadata": {},
   "outputs": [
    {
     "data": {
      "text/plain": [
       "(385, 57)"
      ]
     },
     "execution_count": 65,
     "metadata": {},
     "output_type": "execute_result"
    }
   ],
   "source": [
    "old_metadata = pd.read_csv('../data/processed_data/metadata.tsv',\n",
    "                          index_col=0, sep='\\t')\n",
    "old_metadata.shape"
   ]
  },
  {
   "cell_type": "code",
   "execution_count": 74,
   "metadata": {},
   "outputs": [
    {
     "data": {
      "text/plain": [
       "[]"
      ]
     },
     "execution_count": 74,
     "metadata": {},
     "output_type": "execute_result"
    }
   ],
   "source": [
    "[i for i in DF_log_tpm_final if i not in old_metadata.index]"
   ]
  },
  {
   "cell_type": "code",
   "execution_count": 75,
   "metadata": {},
   "outputs": [
    {
     "data": {
      "text/plain": [
       "[]"
      ]
     },
     "execution_count": 75,
     "metadata": {},
     "output_type": "execute_result"
    }
   ],
   "source": [
    "[i for i in old_metadata.index if i not in DF_log_tpm_final]"
   ]
  },
  {
   "cell_type": "code",
   "execution_count": 76,
   "metadata": {},
   "outputs": [],
   "source": [
    "old_tpm_norm = pd.read_csv('../data/processed_data/log_tpm_norm.csv',\n",
    "                     index_col=0)\n",
    "old_tpm_norm = old_tpm_norm.drop(remove_samps, axis=1)"
   ]
  },
  {
   "cell_type": "code",
   "execution_count": 78,
   "metadata": {},
   "outputs": [],
   "source": [
    "DF_log_tpm_norm = pd.concat([DF_log_tpm_norm, old_tpm_norm], axis=1).fillna(0)"
   ]
  },
  {
   "cell_type": "code",
   "execution_count": 79,
   "metadata": {},
   "outputs": [
    {
     "data": {
      "text/plain": [
       "[]"
      ]
     },
     "execution_count": 79,
     "metadata": {},
     "output_type": "execute_result"
    }
   ],
   "source": [
    "[i for i in DF_log_tpm_norm if i not in old_metadata.index]"
   ]
  },
  {
   "cell_type": "code",
   "execution_count": 80,
   "metadata": {},
   "outputs": [
    {
     "data": {
      "text/plain": [
       "[]"
      ]
     },
     "execution_count": 80,
     "metadata": {},
     "output_type": "execute_result"
    }
   ],
   "source": [
    "[i for i in old_metadata.index if i not in DF_log_tpm_norm]"
   ]
  },
  {
   "cell_type": "code",
   "execution_count": null,
   "metadata": {},
   "outputs": [],
   "source": [
    "DF_metadata_final = pd.concat([new_metadata, DF_metadata_final])"
   ]
  },
  {
   "cell_type": "code",
   "execution_count": 81,
   "metadata": {},
   "outputs": [],
   "source": [
    "logTPM_qc_file = path.join(work_dir,'processed_data','log_tpm.csv')\n",
    "logTPM_norm_file = path.join(work_dir,'processed_data','log_tpm_norm.csv')\n",
    "final_metadata_file = path.join(work_dir,'processed_data','metadata.tsv')\n",
    "final_metadata_all_file = path.join(work_dir,'interim','metadata_qc_part2_all_new_data.tsv')\n",
    "\n",
    "DF_log_tpm_final.to_csv(logTPM_qc_file)\n",
    "DF_log_tpm_norm.to_csv(logTPM_norm_file)\n",
    "DF_metadata_final.to_csv(final_metadata_file, sep='\\t')\n",
    "DF_metadata_all.to_csv(final_metadata_all_file, sep='\\t')"
   ]
  }
 ],
 "metadata": {
  "kernelspec": {
   "display_name": "Python 3 (ipykernel)",
   "language": "python",
   "name": "python3"
  },
  "language_info": {
   "codemirror_mode": {
    "name": "ipython",
    "version": 3
   },
   "file_extension": ".py",
   "mimetype": "text/x-python",
   "name": "python",
   "nbconvert_exporter": "python",
   "pygments_lexer": "ipython3",
   "version": "3.10.4"
  },
  "toc": {
   "base_numbering": 1,
   "nav_menu": {},
   "number_sections": true,
   "sideBar": true,
   "skip_h1_title": false,
   "title_cell": "Table of Contents",
   "title_sidebar": "Contents",
   "toc_cell": true,
   "toc_position": {},
   "toc_section_display": true,
   "toc_window_display": false
  }
 },
 "nbformat": 4,
 "nbformat_minor": 4
}
