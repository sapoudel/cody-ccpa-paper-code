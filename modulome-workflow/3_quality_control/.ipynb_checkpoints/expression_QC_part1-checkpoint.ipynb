{
 "cells": [
  {
   "cell_type": "markdown",
   "metadata": {},
   "source": [
    "# Expression Quality Control (Part 1)\n",
    "This is a template notebook for performing preliminary quality control on your organism's expression data."
   ]
  },
  {
   "cell_type": "markdown",
   "metadata": {},
   "source": [
    "## Setup"
   ]
  },
  {
   "cell_type": "code",
   "execution_count": 1,
   "metadata": {},
   "outputs": [],
   "source": [
    "import matplotlib.pyplot as plt\n",
    "import numpy as np\n",
    "import pandas as pd\n",
    "import seaborn as sns\n",
    "\n",
    "from os import path"
   ]
  },
  {
   "cell_type": "code",
   "execution_count": 2,
   "metadata": {},
   "outputs": [],
   "source": [
    "sns.set_style('ticks')"
   ]
  },
  {
   "cell_type": "markdown",
   "metadata": {},
   "source": [
    "### Inputs"
   ]
  },
  {
   "cell_type": "markdown",
   "metadata": {},
   "source": [
    "Enter path of log-TPM, MultiQC, and metadata files here"
   ]
  },
  {
   "cell_type": "code",
   "execution_count": 3,
   "metadata": {},
   "outputs": [],
   "source": [
    "work_dir = '../data/interim/aws_results/'\n",
    "processed_dir = '../data/processed_data/'"
   ]
  },
  {
   "cell_type": "code",
   "execution_count": 4,
   "metadata": {},
   "outputs": [],
   "source": [
    "logTPM_file = path.join(work_dir, 'log_tpm.csv') # Enter log-TPM filename here\n",
    "multiqc_file = path.join(work_dir,'multiqc_stats.tsv') # Enter MultiQC stats filename here\n",
    "metadata_file = path.join(processed_dir,'metadata.tsv') # Enter metadata filename here"
   ]
  },
  {
   "cell_type": "markdown",
   "metadata": {},
   "source": [
    "### Load expression data"
   ]
  },
  {
   "cell_type": "code",
   "execution_count": 5,
   "metadata": {},
   "outputs": [
    {
     "name": "stdout",
     "output_type": "stream",
     "text": [
      "Number of genes: 2858\n",
      "Number of samples: 386\n"
     ]
    },
    {
     "data": {
      "text/html": [
       "<div>\n",
       "<style scoped>\n",
       "    .dataframe tbody tr th:only-of-type {\n",
       "        vertical-align: middle;\n",
       "    }\n",
       "\n",
       "    .dataframe tbody tr th {\n",
       "        vertical-align: top;\n",
       "    }\n",
       "\n",
       "    .dataframe thead th {\n",
       "        text-align: right;\n",
       "    }\n",
       "</style>\n",
       "<table border=\"1\" class=\"dataframe\">\n",
       "  <thead>\n",
       "    <tr style=\"text-align: right;\">\n",
       "      <th></th>\n",
       "      <th>CM_1</th>\n",
       "      <th>CM_10</th>\n",
       "      <th>CM_11</th>\n",
       "      <th>CM_12</th>\n",
       "      <th>CM_13</th>\n",
       "      <th>CM_14</th>\n",
       "      <th>CM_15</th>\n",
       "      <th>CM_16</th>\n",
       "      <th>CM_2</th>\n",
       "      <th>CM_3</th>\n",
       "      <th>...</th>\n",
       "      <th>Vir_19</th>\n",
       "      <th>Vir_2</th>\n",
       "      <th>Vir_20</th>\n",
       "      <th>Vir_3</th>\n",
       "      <th>Vir_4</th>\n",
       "      <th>Vir_5</th>\n",
       "      <th>Vir_6</th>\n",
       "      <th>Vir_7</th>\n",
       "      <th>Vir_8</th>\n",
       "      <th>Vir_9</th>\n",
       "    </tr>\n",
       "    <tr>\n",
       "      <th>Geneid</th>\n",
       "      <th></th>\n",
       "      <th></th>\n",
       "      <th></th>\n",
       "      <th></th>\n",
       "      <th></th>\n",
       "      <th></th>\n",
       "      <th></th>\n",
       "      <th></th>\n",
       "      <th></th>\n",
       "      <th></th>\n",
       "      <th></th>\n",
       "      <th></th>\n",
       "      <th></th>\n",
       "      <th></th>\n",
       "      <th></th>\n",
       "      <th></th>\n",
       "      <th></th>\n",
       "      <th></th>\n",
       "      <th></th>\n",
       "      <th></th>\n",
       "      <th></th>\n",
       "    </tr>\n",
       "  </thead>\n",
       "  <tbody>\n",
       "    <tr>\n",
       "      <th>USA300HOU_RS14890</th>\n",
       "      <td>0.000000</td>\n",
       "      <td>0.000000</td>\n",
       "      <td>0.000000</td>\n",
       "      <td>0.000000</td>\n",
       "      <td>0.000000</td>\n",
       "      <td>0.000000</td>\n",
       "      <td>0.000000</td>\n",
       "      <td>0.000000</td>\n",
       "      <td>0.000000</td>\n",
       "      <td>0.000000</td>\n",
       "      <td>...</td>\n",
       "      <td>0.000000</td>\n",
       "      <td>0.000000</td>\n",
       "      <td>0.000000</td>\n",
       "      <td>0.000000</td>\n",
       "      <td>0.000000</td>\n",
       "      <td>0.000000</td>\n",
       "      <td>0.000000</td>\n",
       "      <td>0.000000</td>\n",
       "      <td>0.000000</td>\n",
       "      <td>0.000000</td>\n",
       "    </tr>\n",
       "    <tr>\n",
       "      <th>USA300HOU_RS14895</th>\n",
       "      <td>0.000000</td>\n",
       "      <td>0.000000</td>\n",
       "      <td>0.000000</td>\n",
       "      <td>0.000000</td>\n",
       "      <td>0.000000</td>\n",
       "      <td>0.000000</td>\n",
       "      <td>0.000000</td>\n",
       "      <td>0.000000</td>\n",
       "      <td>0.000000</td>\n",
       "      <td>0.000000</td>\n",
       "      <td>...</td>\n",
       "      <td>0.000000</td>\n",
       "      <td>0.000000</td>\n",
       "      <td>0.000000</td>\n",
       "      <td>0.000000</td>\n",
       "      <td>0.000000</td>\n",
       "      <td>0.000000</td>\n",
       "      <td>0.000000</td>\n",
       "      <td>0.000000</td>\n",
       "      <td>0.000000</td>\n",
       "      <td>0.000000</td>\n",
       "    </tr>\n",
       "    <tr>\n",
       "      <th>USA300HOU_RS14900</th>\n",
       "      <td>0.000000</td>\n",
       "      <td>0.000000</td>\n",
       "      <td>0.000000</td>\n",
       "      <td>0.000000</td>\n",
       "      <td>0.000000</td>\n",
       "      <td>0.000000</td>\n",
       "      <td>0.000000</td>\n",
       "      <td>0.000000</td>\n",
       "      <td>0.000000</td>\n",
       "      <td>0.000000</td>\n",
       "      <td>...</td>\n",
       "      <td>0.000000</td>\n",
       "      <td>0.000000</td>\n",
       "      <td>0.000000</td>\n",
       "      <td>0.000000</td>\n",
       "      <td>0.000000</td>\n",
       "      <td>0.000000</td>\n",
       "      <td>0.000000</td>\n",
       "      <td>0.000000</td>\n",
       "      <td>0.000000</td>\n",
       "      <td>0.000000</td>\n",
       "    </tr>\n",
       "    <tr>\n",
       "      <th>USA300HOU_RS00005</th>\n",
       "      <td>8.360884</td>\n",
       "      <td>7.854564</td>\n",
       "      <td>7.976723</td>\n",
       "      <td>8.147368</td>\n",
       "      <td>8.621017</td>\n",
       "      <td>8.665520</td>\n",
       "      <td>8.080793</td>\n",
       "      <td>8.210007</td>\n",
       "      <td>8.404014</td>\n",
       "      <td>8.045027</td>\n",
       "      <td>...</td>\n",
       "      <td>8.684741</td>\n",
       "      <td>8.309624</td>\n",
       "      <td>8.580016</td>\n",
       "      <td>8.677952</td>\n",
       "      <td>8.245386</td>\n",
       "      <td>7.705794</td>\n",
       "      <td>7.802267</td>\n",
       "      <td>8.028301</td>\n",
       "      <td>8.056610</td>\n",
       "      <td>8.092215</td>\n",
       "    </tr>\n",
       "    <tr>\n",
       "      <th>USA300HOU_RS00010</th>\n",
       "      <td>9.085676</td>\n",
       "      <td>8.606412</td>\n",
       "      <td>8.714703</td>\n",
       "      <td>8.831886</td>\n",
       "      <td>9.360479</td>\n",
       "      <td>9.408799</td>\n",
       "      <td>8.725953</td>\n",
       "      <td>8.868154</td>\n",
       "      <td>9.156692</td>\n",
       "      <td>8.866969</td>\n",
       "      <td>...</td>\n",
       "      <td>8.462001</td>\n",
       "      <td>8.286336</td>\n",
       "      <td>8.520955</td>\n",
       "      <td>8.619290</td>\n",
       "      <td>7.948856</td>\n",
       "      <td>7.509506</td>\n",
       "      <td>7.623705</td>\n",
       "      <td>7.610269</td>\n",
       "      <td>7.655862</td>\n",
       "      <td>8.054025</td>\n",
       "    </tr>\n",
       "  </tbody>\n",
       "</table>\n",
       "<p>5 rows × 386 columns</p>\n",
       "</div>"
      ],
      "text/plain": [
       "                       CM_1     CM_10     CM_11     CM_12     CM_13     CM_14  \\\n",
       "Geneid                                                                          \n",
       "USA300HOU_RS14890  0.000000  0.000000  0.000000  0.000000  0.000000  0.000000   \n",
       "USA300HOU_RS14895  0.000000  0.000000  0.000000  0.000000  0.000000  0.000000   \n",
       "USA300HOU_RS14900  0.000000  0.000000  0.000000  0.000000  0.000000  0.000000   \n",
       "USA300HOU_RS00005  8.360884  7.854564  7.976723  8.147368  8.621017  8.665520   \n",
       "USA300HOU_RS00010  9.085676  8.606412  8.714703  8.831886  9.360479  9.408799   \n",
       "\n",
       "                      CM_15     CM_16      CM_2      CM_3  ...    Vir_19  \\\n",
       "Geneid                                                     ...             \n",
       "USA300HOU_RS14890  0.000000  0.000000  0.000000  0.000000  ...  0.000000   \n",
       "USA300HOU_RS14895  0.000000  0.000000  0.000000  0.000000  ...  0.000000   \n",
       "USA300HOU_RS14900  0.000000  0.000000  0.000000  0.000000  ...  0.000000   \n",
       "USA300HOU_RS00005  8.080793  8.210007  8.404014  8.045027  ...  8.684741   \n",
       "USA300HOU_RS00010  8.725953  8.868154  9.156692  8.866969  ...  8.462001   \n",
       "\n",
       "                      Vir_2    Vir_20     Vir_3     Vir_4     Vir_5     Vir_6  \\\n",
       "Geneid                                                                          \n",
       "USA300HOU_RS14890  0.000000  0.000000  0.000000  0.000000  0.000000  0.000000   \n",
       "USA300HOU_RS14895  0.000000  0.000000  0.000000  0.000000  0.000000  0.000000   \n",
       "USA300HOU_RS14900  0.000000  0.000000  0.000000  0.000000  0.000000  0.000000   \n",
       "USA300HOU_RS00005  8.309624  8.580016  8.677952  8.245386  7.705794  7.802267   \n",
       "USA300HOU_RS00010  8.286336  8.520955  8.619290  7.948856  7.509506  7.623705   \n",
       "\n",
       "                      Vir_7     Vir_8     Vir_9  \n",
       "Geneid                                           \n",
       "USA300HOU_RS14890  0.000000  0.000000  0.000000  \n",
       "USA300HOU_RS14895  0.000000  0.000000  0.000000  \n",
       "USA300HOU_RS14900  0.000000  0.000000  0.000000  \n",
       "USA300HOU_RS00005  8.028301  8.056610  8.092215  \n",
       "USA300HOU_RS00010  7.610269  7.655862  8.054025  \n",
       "\n",
       "[5 rows x 386 columns]"
      ]
     },
     "execution_count": 5,
     "metadata": {},
     "output_type": "execute_result"
    }
   ],
   "source": [
    "DF_log_tpm = pd.read_csv(logTPM_file,index_col=0).fillna(0)\n",
    "print('Number of genes:',DF_log_tpm.shape[0])\n",
    "print('Number of samples:',DF_log_tpm.shape[1])\n",
    "DF_log_tpm.head()"
   ]
  },
  {
   "cell_type": "code",
   "execution_count": 6,
   "metadata": {},
   "outputs": [],
   "source": [
    "# only keep the new samples\n",
    "new_samps = [i for i in DF_log_tpm if i.startswith('CM_') or i.startswith('SG_')]"
   ]
  },
  {
   "cell_type": "code",
   "execution_count": 7,
   "metadata": {},
   "outputs": [],
   "source": [
    "DF_log_tpm = DF_log_tpm[new_samps]"
   ]
  },
  {
   "cell_type": "markdown",
   "metadata": {},
   "source": [
    "### Load QC data\n",
    "There may be some datasets that failed along the processing pipeline, so the number of samples with QC data may be higher than the number of samples with expression data."
   ]
  },
  {
   "cell_type": "code",
   "execution_count": 8,
   "metadata": {},
   "outputs": [
    {
     "name": "stdout",
     "output_type": "stream",
     "text": [
      "Number of samples with QC data: 24\n"
     ]
    }
   ],
   "source": [
    "DF_qc_stats = pd.read_csv(multiqc_file,index_col=0, sep='\\t')\n",
    "DF_qc_stats = DF_qc_stats.loc[new_samps]\n",
    "print('Number of samples with QC data:',DF_qc_stats.shape[0])"
   ]
  },
  {
   "cell_type": "markdown",
   "metadata": {},
   "source": [
    "### Load metadata"
   ]
  },
  {
   "cell_type": "code",
   "execution_count": 9,
   "metadata": {},
   "outputs": [
    {
     "name": "stdout",
     "output_type": "stream",
     "text": [
      "Number of samples with metadata: 385\n"
     ]
    },
    {
     "data": {
      "text/html": [
       "<div>\n",
       "<style scoped>\n",
       "    .dataframe tbody tr th:only-of-type {\n",
       "        vertical-align: middle;\n",
       "    }\n",
       "\n",
       "    .dataframe tbody tr th {\n",
       "        vertical-align: top;\n",
       "    }\n",
       "\n",
       "    .dataframe thead th {\n",
       "        text-align: right;\n",
       "    }\n",
       "</style>\n",
       "<table border=\"1\" class=\"dataframe\">\n",
       "  <thead>\n",
       "    <tr style=\"text-align: right;\">\n",
       "      <th></th>\n",
       "      <th>BioProject</th>\n",
       "      <th>BioSample</th>\n",
       "      <th>Body_Site</th>\n",
       "      <th>project</th>\n",
       "      <th>base_media</th>\n",
       "      <th>treatment</th>\n",
       "      <th>growth_phase</th>\n",
       "      <th>isolate</th>\n",
       "      <th>reference_condition</th>\n",
       "      <th>skip</th>\n",
       "      <th>...</th>\n",
       "      <th>Notes</th>\n",
       "      <th>SRA ID</th>\n",
       "      <th>Biosample</th>\n",
       "      <th>GEO Series</th>\n",
       "      <th>GEO Sample</th>\n",
       "      <th>PMID</th>\n",
       "      <th>passed_replicate_correlations</th>\n",
       "      <th>genetic_changes</th>\n",
       "      <th>name</th>\n",
       "      <th>condition</th>\n",
       "    </tr>\n",
       "  </thead>\n",
       "  <tbody>\n",
       "    <tr>\n",
       "      <th>Cody_1</th>\n",
       "      <td>CodY regulon determination</td>\n",
       "      <td>NaN</td>\n",
       "      <td>NaN</td>\n",
       "      <td>codY iModulon</td>\n",
       "      <td>RPMI+10%LB</td>\n",
       "      <td>Mutant</td>\n",
       "      <td>exp</td>\n",
       "      <td>JE2</td>\n",
       "      <td>Control</td>\n",
       "      <td>NaN</td>\n",
       "      <td>...</td>\n",
       "      <td>NaN</td>\n",
       "      <td>NaN</td>\n",
       "      <td>NaN</td>\n",
       "      <td>NaN</td>\n",
       "      <td>NaN</td>\n",
       "      <td>NaN</td>\n",
       "      <td>True</td>\n",
       "      <td>bursa::CodY</td>\n",
       "      <td>NaN</td>\n",
       "      <td>RPMI+10%LB;Mutant;exp;JE2;bursa::CodY</td>\n",
       "    </tr>\n",
       "    <tr>\n",
       "      <th>Cody_2</th>\n",
       "      <td>CodY regulon determination</td>\n",
       "      <td>NaN</td>\n",
       "      <td>NaN</td>\n",
       "      <td>codY iModulon</td>\n",
       "      <td>RPMI+10%LB</td>\n",
       "      <td>Mutant</td>\n",
       "      <td>exp</td>\n",
       "      <td>JE2</td>\n",
       "      <td>Control</td>\n",
       "      <td>NaN</td>\n",
       "      <td>...</td>\n",
       "      <td>NaN</td>\n",
       "      <td>NaN</td>\n",
       "      <td>NaN</td>\n",
       "      <td>NaN</td>\n",
       "      <td>NaN</td>\n",
       "      <td>NaN</td>\n",
       "      <td>True</td>\n",
       "      <td>bursa::CodY</td>\n",
       "      <td>NaN</td>\n",
       "      <td>RPMI+10%LB;Mutant;exp;JE2;bursa::CodY</td>\n",
       "    </tr>\n",
       "    <tr>\n",
       "      <th>Cody_3</th>\n",
       "      <td>CodY regulon determination</td>\n",
       "      <td>NaN</td>\n",
       "      <td>NaN</td>\n",
       "      <td>codY iModulon</td>\n",
       "      <td>RPMI+10%LB</td>\n",
       "      <td>Control</td>\n",
       "      <td>exp</td>\n",
       "      <td>JE2</td>\n",
       "      <td>Control</td>\n",
       "      <td>NaN</td>\n",
       "      <td>...</td>\n",
       "      <td>NaN</td>\n",
       "      <td>NaN</td>\n",
       "      <td>NaN</td>\n",
       "      <td>NaN</td>\n",
       "      <td>NaN</td>\n",
       "      <td>NaN</td>\n",
       "      <td>True</td>\n",
       "      <td>WT</td>\n",
       "      <td>NaN</td>\n",
       "      <td>RPMI+10%LB;Control;exp;JE2;WT</td>\n",
       "    </tr>\n",
       "    <tr>\n",
       "      <th>Cody_4</th>\n",
       "      <td>CodY regulon determination</td>\n",
       "      <td>NaN</td>\n",
       "      <td>NaN</td>\n",
       "      <td>codY iModulon</td>\n",
       "      <td>RPMI+10%LB</td>\n",
       "      <td>Control</td>\n",
       "      <td>exp</td>\n",
       "      <td>JE2</td>\n",
       "      <td>Control</td>\n",
       "      <td>NaN</td>\n",
       "      <td>...</td>\n",
       "      <td>NaN</td>\n",
       "      <td>NaN</td>\n",
       "      <td>NaN</td>\n",
       "      <td>NaN</td>\n",
       "      <td>NaN</td>\n",
       "      <td>NaN</td>\n",
       "      <td>True</td>\n",
       "      <td>WT</td>\n",
       "      <td>NaN</td>\n",
       "      <td>RPMI+10%LB;Control;exp;JE2;WT</td>\n",
       "    </tr>\n",
       "    <tr>\n",
       "      <th>Metab_1</th>\n",
       "      <td>Metabolism</td>\n",
       "      <td>NaN</td>\n",
       "      <td>NaN</td>\n",
       "      <td>central metabolism</td>\n",
       "      <td>TSB</td>\n",
       "      <td>Control</td>\n",
       "      <td>exp</td>\n",
       "      <td>JE2</td>\n",
       "      <td>Control</td>\n",
       "      <td>NaN</td>\n",
       "      <td>...</td>\n",
       "      <td>NaN</td>\n",
       "      <td>NaN</td>\n",
       "      <td>NaN</td>\n",
       "      <td>NaN</td>\n",
       "      <td>NaN</td>\n",
       "      <td>NaN</td>\n",
       "      <td>True</td>\n",
       "      <td>WT</td>\n",
       "      <td>NaN</td>\n",
       "      <td>TSB;Control;exp;JE2;WT</td>\n",
       "    </tr>\n",
       "  </tbody>\n",
       "</table>\n",
       "<p>5 rows × 57 columns</p>\n",
       "</div>"
      ],
      "text/plain": [
       "                         BioProject BioSample  Body_Site             project  \\\n",
       "Cody_1   CodY regulon determination       NaN        NaN       codY iModulon   \n",
       "Cody_2   CodY regulon determination       NaN        NaN       codY iModulon   \n",
       "Cody_3   CodY regulon determination       NaN        NaN       codY iModulon   \n",
       "Cody_4   CodY regulon determination       NaN        NaN       codY iModulon   \n",
       "Metab_1                  Metabolism       NaN        NaN  central metabolism   \n",
       "\n",
       "         base_media treatment growth_phase isolate reference_condition  skip  \\\n",
       "Cody_1   RPMI+10%LB    Mutant          exp     JE2             Control   NaN   \n",
       "Cody_2   RPMI+10%LB    Mutant          exp     JE2             Control   NaN   \n",
       "Cody_3   RPMI+10%LB   Control          exp     JE2             Control   NaN   \n",
       "Cody_4   RPMI+10%LB   Control          exp     JE2             Control   NaN   \n",
       "Metab_1         TSB   Control          exp     JE2             Control   NaN   \n",
       "\n",
       "         ...  Notes SRA ID  Biosample  GEO Series GEO Sample PMID  \\\n",
       "Cody_1   ...    NaN    NaN        NaN         NaN        NaN  NaN   \n",
       "Cody_2   ...    NaN    NaN        NaN         NaN        NaN  NaN   \n",
       "Cody_3   ...    NaN    NaN        NaN         NaN        NaN  NaN   \n",
       "Cody_4   ...    NaN    NaN        NaN         NaN        NaN  NaN   \n",
       "Metab_1  ...    NaN    NaN        NaN         NaN        NaN  NaN   \n",
       "\n",
       "        passed_replicate_correlations genetic_changes name  \\\n",
       "Cody_1                           True     bursa::CodY  NaN   \n",
       "Cody_2                           True     bursa::CodY  NaN   \n",
       "Cody_3                           True              WT  NaN   \n",
       "Cody_4                           True              WT  NaN   \n",
       "Metab_1                          True              WT  NaN   \n",
       "\n",
       "                                     condition  \n",
       "Cody_1   RPMI+10%LB;Mutant;exp;JE2;bursa::CodY  \n",
       "Cody_2   RPMI+10%LB;Mutant;exp;JE2;bursa::CodY  \n",
       "Cody_3           RPMI+10%LB;Control;exp;JE2;WT  \n",
       "Cody_4           RPMI+10%LB;Control;exp;JE2;WT  \n",
       "Metab_1                 TSB;Control;exp;JE2;WT  \n",
       "\n",
       "[5 rows x 57 columns]"
      ]
     },
     "execution_count": 9,
     "metadata": {},
     "output_type": "execute_result"
    }
   ],
   "source": [
    "DF_metadata = pd.read_csv(metadata_file,index_col=0,sep='\\t')\n",
    "print('Number of samples with metadata:',DF_metadata.shape[0])\n",
    "DF_metadata.head()"
   ]
  },
  {
   "cell_type": "markdown",
   "metadata": {},
   "source": [
    "### Remove extra sample rows"
   ]
  },
  {
   "cell_type": "markdown",
   "metadata": {},
   "source": [
    "Ensure that metadata and qc_stats data contain all log_tpm sample information."
   ]
  },
  {
   "cell_type": "code",
   "execution_count": 10,
   "metadata": {},
   "outputs": [],
   "source": [
    "assert(set(DF_log_tpm.columns) - set(DF_metadata.index) == set())\n",
    "assert(set(DF_log_tpm.columns) - set(DF_qc_stats.index) == set())"
   ]
  },
  {
   "cell_type": "code",
   "execution_count": 11,
   "metadata": {},
   "outputs": [],
   "source": [
    "DF_metadata = DF_metadata.loc[DF_log_tpm.columns]\n",
    "DF_qc_stats = DF_qc_stats.loc[DF_log_tpm.columns]"
   ]
  },
  {
   "cell_type": "markdown",
   "metadata": {},
   "source": [
    "## Check QC statistics"
   ]
  },
  {
   "cell_type": "markdown",
   "metadata": {},
   "source": [
    "### FastQC quality control"
   ]
  },
  {
   "cell_type": "code",
   "execution_count": 12,
   "metadata": {},
   "outputs": [],
   "source": [
    "fastqc_cols = ['per_base_sequence_quality',\n",
    "       'per_tile_sequence_quality', 'per_sequence_quality_scores',\n",
    "       'per_base_sequence_content', 'per_sequence_gc_content',\n",
    "       'per_base_n_content', 'sequence_length_distribution',\n",
    "       'sequence_duplication_levels', 'overrepresented_sequences',\n",
    "       'adapter_content']"
   ]
  },
  {
   "cell_type": "code",
   "execution_count": 13,
   "metadata": {},
   "outputs": [
    {
     "data": {
      "image/png": "[encoded data removed]",
      "text/plain": [
       "<Figure size 432x288 with 2 Axes>"
      ]
     },
     "metadata": {},
     "output_type": "display_data"
    }
   ],
   "source": [
    "DF_fastqc = DF_qc_stats[fastqc_cols]\n",
    "ax = sns.heatmap(DF_fastqc.replace('pass',1).replace('warn',0).replace('fail',-1),\n",
    "            cmap='RdYlBu',vmax=1.3,vmin=-1.3)\n",
    "cbar = ax.collections[0].colorbar\n",
    "cbar.set_ticks([-1,0,1])\n",
    "cbar.set_ticklabels(['fail','warn','pass'])"
   ]
  },
  {
   "cell_type": "markdown",
   "metadata": {},
   "source": [
    "The following four categories are the most important:\n",
    "* per_base_sequence_quality\n",
    "* per_sequence_quality_scores\n",
    "* per_base_n_content\n",
    "* adapter_content\n",
    "    \n",
    "If a sample does not pass any of these four categories, discard the sample."
   ]
  },
  {
   "cell_type": "code",
   "execution_count": 14,
   "metadata": {},
   "outputs": [],
   "source": [
    "fastqc_fail_cols = ['per_base_sequence_quality','per_sequence_quality_scores','per_base_n_content','adapter_content']"
   ]
  },
  {
   "cell_type": "code",
   "execution_count": 15,
   "metadata": {},
   "outputs": [
    {
     "data": {
      "text/html": [
       "<div>\n",
       "<style scoped>\n",
       "    .dataframe tbody tr th:only-of-type {\n",
       "        vertical-align: middle;\n",
       "    }\n",
       "\n",
       "    .dataframe tbody tr th {\n",
       "        vertical-align: top;\n",
       "    }\n",
       "\n",
       "    .dataframe thead th {\n",
       "        text-align: right;\n",
       "    }\n",
       "</style>\n",
       "<table border=\"1\" class=\"dataframe\">\n",
       "  <thead>\n",
       "    <tr style=\"text-align: right;\">\n",
       "      <th></th>\n",
       "      <th>per_base_sequence_quality</th>\n",
       "      <th>per_sequence_quality_scores</th>\n",
       "      <th>per_base_n_content</th>\n",
       "      <th>adapter_content</th>\n",
       "    </tr>\n",
       "  </thead>\n",
       "  <tbody>\n",
       "  </tbody>\n",
       "</table>\n",
       "</div>"
      ],
      "text/plain": [
       "Empty DataFrame\n",
       "Columns: [per_base_sequence_quality, per_sequence_quality_scores, per_base_n_content, adapter_content]\n",
       "Index: []"
      ]
     },
     "execution_count": 15,
     "metadata": {},
     "output_type": "execute_result"
    }
   ],
   "source": [
    "DF_failed_fastqc = DF_fastqc[fastqc_fail_cols][(DF_fastqc[fastqc_fail_cols] != 'pass').any(axis=1)]\n",
    "DF_failed_fastqc[fastqc_fail_cols]"
   ]
  },
  {
   "cell_type": "markdown",
   "metadata": {},
   "source": [
    "Mark samples that passed."
   ]
  },
  {
   "cell_type": "code",
   "execution_count": 16,
   "metadata": {},
   "outputs": [],
   "source": [
    "DF_metadata['passed_fastqc'] = ~DF_metadata.index.isin(DF_failed_fastqc.index)"
   ]
  },
  {
   "cell_type": "markdown",
   "metadata": {},
   "source": [
    "### Number of aligned reads"
   ]
  },
  {
   "cell_type": "markdown",
   "metadata": {},
   "source": [
    "The following histogram shows how many reads map to coding sequences (i.e. mRNA). Too few aligned reads reduces the sensitivity of the resulting data."
   ]
  },
  {
   "cell_type": "code",
   "execution_count": 17,
   "metadata": {},
   "outputs": [],
   "source": [
    "min_mrna_reads = 500000 # Minimum number of reads mapped to mRNA (500,000)"
   ]
  },
  {
   "cell_type": "code",
   "execution_count": 18,
   "metadata": {},
   "outputs": [
    {
     "data": {
      "text/plain": [
       "Text(0.5, 1.0, 'Number of reads mapped to CDS')"
      ]
     },
     "execution_count": 18,
     "metadata": {},
     "output_type": "execute_result"
    },
    {
     "data": {
      "image/png": "[encoded data removed]",
      "text/plain": [
       "<Figure size 432x288 with 1 Axes>"
      ]
     },
     "metadata": {},
     "output_type": "display_data"
    }
   ],
   "source": [
    "fig,ax = plt.subplots()\n",
    "ax.hist(DF_qc_stats['Assigned']/1e6,bins=50,alpha=0.8)\n",
    "ymin,ymax = ax.get_ylim()\n",
    "ax.vlines(min_mrna_reads/1e6,ymin,ymax,color='r')\n",
    "ax.set_ylim((ymin,ymax))\n",
    "ax.set_xlabel('# Reads (M)',fontsize=14)\n",
    "ax.set_ylabel('# Samples',fontsize=14)\n",
    "ax.set_title('Number of reads mapped to CDS',fontsize=16)"
   ]
  },
  {
   "cell_type": "markdown",
   "metadata": {},
   "source": [
    "Identify samples with poor read depth:"
   ]
  },
  {
   "cell_type": "code",
   "execution_count": 19,
   "metadata": {},
   "outputs": [
    {
     "data": {
      "text/html": [
       "<div>\n",
       "<style scoped>\n",
       "    .dataframe tbody tr th:only-of-type {\n",
       "        vertical-align: middle;\n",
       "    }\n",
       "\n",
       "    .dataframe tbody tr th {\n",
       "        vertical-align: top;\n",
       "    }\n",
       "\n",
       "    .dataframe thead th {\n",
       "        text-align: right;\n",
       "    }\n",
       "</style>\n",
       "<table border=\"1\" class=\"dataframe\">\n",
       "  <thead>\n",
       "    <tr style=\"text-align: right;\">\n",
       "      <th></th>\n",
       "      <th>Total</th>\n",
       "      <th>Assigned</th>\n",
       "      <th>Unassigned_rRNA</th>\n",
       "      <th>Unassigned_Unmapped</th>\n",
       "      <th>Unassigned_Read_Type</th>\n",
       "      <th>Unassigned_Singleton</th>\n",
       "      <th>Unassigned_MappingQuality</th>\n",
       "      <th>Unassigned_Chimera</th>\n",
       "      <th>Unassigned_FragmentLength</th>\n",
       "      <th>Unassigned_Duplicate</th>\n",
       "      <th>...</th>\n",
       "      <th>r_written</th>\n",
       "      <th>bp_processed</th>\n",
       "      <th>quality_trimmed</th>\n",
       "      <th>bp_written</th>\n",
       "      <th>percent_trimmed</th>\n",
       "      <th>pe_sense</th>\n",
       "      <th>pe_antisense</th>\n",
       "      <th>failed</th>\n",
       "      <th>se_sense</th>\n",
       "      <th>se_antisense</th>\n",
       "    </tr>\n",
       "  </thead>\n",
       "  <tbody>\n",
       "  </tbody>\n",
       "</table>\n",
       "<p>0 rows × 54 columns</p>\n",
       "</div>"
      ],
      "text/plain": [
       "Empty DataFrame\n",
       "Columns: [Total, Assigned, Unassigned_rRNA, Unassigned_Unmapped, Unassigned_Read_Type, Unassigned_Singleton, Unassigned_MappingQuality, Unassigned_Chimera, Unassigned_FragmentLength, Unassigned_Duplicate, Unassigned_MultiMapping, Unassigned_Secondary, Unassigned_NonSplit, Unassigned_NoFeatures, Unassigned_Overlapping_Length, Unassigned_Ambiguity, percent_assigned, reads_processed, reads_aligned, reads_aligned_percentage, not_aligned, not_aligned_percentage, Filename, File type, Encoding, Total Sequences, Sequences flagged as poor quality, Sequence length, %GC, total_deduplicated_percentage, avg_sequence_length, basic_statistics, per_base_sequence_quality, per_tile_sequence_quality, per_sequence_quality_scores, per_base_sequence_content, per_sequence_gc_content, per_base_n_content, sequence_length_distribution, sequence_duplication_levels, overrepresented_sequences, adapter_content, r_processed, r_with_adapters, r_written, bp_processed, quality_trimmed, bp_written, percent_trimmed, pe_sense, pe_antisense, failed, se_sense, se_antisense]\n",
       "Index: []\n",
       "\n",
       "[0 rows x 54 columns]"
      ]
     },
     "execution_count": 19,
     "metadata": {},
     "output_type": "execute_result"
    }
   ],
   "source": [
    "DF_failed_mrna = DF_qc_stats[DF_qc_stats['Assigned'] < min_mrna_reads].sort_values('Assigned')\n",
    "DF_failed_mrna"
   ]
  },
  {
   "cell_type": "markdown",
   "metadata": {},
   "source": [
    "Mark samples that passed."
   ]
  },
  {
   "cell_type": "code",
   "execution_count": 20,
   "metadata": {},
   "outputs": [],
   "source": [
    "DF_metadata['passed_reads_mapped_to_CDS'] = ~DF_metadata.index.isin(DF_failed_mrna.index)"
   ]
  },
  {
   "cell_type": "markdown",
   "metadata": {},
   "source": [
    "### Examine Global Correlations"
   ]
  },
  {
   "cell_type": "markdown",
   "metadata": {},
   "source": [
    "Only examine data that passed the first two steps."
   ]
  },
  {
   "cell_type": "code",
   "execution_count": 21,
   "metadata": {},
   "outputs": [],
   "source": [
    "metadata_passed_step2 = DF_metadata[DF_metadata[['passed_fastqc','passed_reads_mapped_to_CDS']].all(axis=1)]\n",
    "DF_log_tpm_passed_step2 = DF_log_tpm[metadata_passed_step2.index]"
   ]
  },
  {
   "cell_type": "markdown",
   "metadata": {},
   "source": [
    "A clustermap is a great way to visualize the global correlations between one sample and all others. The ``global_clustering`` function uses hierarchical clustering to identify specific clusters in the clustermap. The optional arguments are:\n",
    "\n",
    "* ``threshold``: Threshold used to extract clusters from the hierarchy. To increase the number of clusters, decrease the value of ``threshold``. To decrease the number of clusters, increase the value of ``threshold`` (default: 0.3)\n",
    "* ``figsize``: A tuple describing the length and width of the final clustermap. A larger figsize can make x and y-axis labels clearer.\n",
    "* ``xticklabels``: Show NCBI SRA accession numbers on the x-axis\n",
    "* ``yticklabels``: Show NCBI SRA accession numbers on the y-axis"
   ]
  },
  {
   "cell_type": "code",
   "execution_count": 22,
   "metadata": {},
   "outputs": [],
   "source": [
    "import scipy.cluster.hierarchy as sch\n",
    "import matplotlib.patches as patches\n",
    "\n",
    "def global_clustering(data, threshold=0.3, xticklabels=False, yticklabels=False, figsize=(9,9)):\n",
    "    \n",
    "    # Retrieve clusters using fcluster \n",
    "    corr = data.corr()\n",
    "    corr.fillna(0,inplace=True)\n",
    "    dist = sch.distance.pdist(corr)\n",
    "    link = sch.linkage(dist, method='complete')\n",
    "    clst = pd.DataFrame(index=data.columns)\n",
    "    clst['cluster'] = sch.fcluster(link, threshold * dist.max(), 'distance')\n",
    "\n",
    "    # Get colors for each cluster\n",
    "    cm = plt.cm.get_cmap('tab20')\n",
    "    cluster_colors = dict(zip(clst.cluster.unique(), cm.colors))\n",
    "    clst['color'] = clst.cluster.map(cluster_colors)\n",
    "\n",
    "    print('Number of cluster: ', len(cluster_colors))\n",
    "    \n",
    "    legend_items = [patches.Patch(color=c, label=l) for l,c in cluster_colors.items()]\n",
    "    \n",
    "    sns.set(rc={'figure.facecolor':'white'})\n",
    "    \n",
    "    clst_map = sns.clustermap(data.corr(), \n",
    "                              figsize=figsize, \n",
    "                              row_linkage=link, \n",
    "                              col_linkage=link, \n",
    "                              col_colors=clst.color,\n",
    "                              yticklabels=yticklabels, \n",
    "                              xticklabels=xticklabels,\n",
    "                              vmin=0, \n",
    "                              vmax=1)\n",
    "    \n",
    "    legend = clst_map.ax_heatmap.legend(loc='upper left', \n",
    "                                        bbox_to_anchor=(1.01,0.85), \n",
    "                                        handles=legend_items,\n",
    "                                        frameon=True)\n",
    "    \n",
    "    legend.set_title(title='Clusters',prop={'size':10})\n",
    "    \n",
    "    return clst['cluster']"
   ]
  },
  {
   "cell_type": "code",
   "execution_count": 23,
   "metadata": {},
   "outputs": [
    {
     "name": "stdout",
     "output_type": "stream",
     "text": [
      "Number of cluster:  6\n"
     ]
    },
    {
     "data": {
      "image/png": "[encoded data removed]",
      "text/plain": [
       "<Figure size 648x648 with 5 Axes>"
      ]
     },
     "metadata": {},
     "output_type": "display_data"
    }
   ],
   "source": [
    "clusters = global_clustering(DF_log_tpm_passed_step2)"
   ]
  },
  {
   "cell_type": "markdown",
   "metadata": {},
   "source": [
    "Select clusters to remove."
   ]
  },
  {
   "cell_type": "code",
   "execution_count": 24,
   "metadata": {},
   "outputs": [],
   "source": [
    "remove_clusters = []\n",
    "passed_global_corr = clusters[~clusters.isin(remove_clusters)].index"
   ]
  },
  {
   "cell_type": "markdown",
   "metadata": {},
   "source": [
    "The following code can be adapted to see the NCBI SRA accession for samples in each cluster."
   ]
  },
  {
   "cell_type": "markdown",
   "metadata": {},
   "source": [
    "Re-cluster samples to ensure all outliers were removed."
   ]
  },
  {
   "cell_type": "code",
   "execution_count": 25,
   "metadata": {},
   "outputs": [],
   "source": [
    "DF_log_tpm_passed_step3 = DF_log_tpm[passed_global_corr]"
   ]
  },
  {
   "cell_type": "code",
   "execution_count": 26,
   "metadata": {},
   "outputs": [
    {
     "name": "stdout",
     "output_type": "stream",
     "text": [
      "Number of cluster:  6\n"
     ]
    },
    {
     "data": {
      "image/png": "[encoded data removed]",
      "text/plain": [
       "<Figure size 648x648 with 5 Axes>"
      ]
     },
     "metadata": {},
     "output_type": "display_data"
    }
   ],
   "source": [
    "clusters = global_clustering(DF_log_tpm_passed_step3)"
   ]
  },
  {
   "cell_type": "markdown",
   "metadata": {},
   "source": [
    "Once you are satisfied with your dataset, mark the samples that passed the global correlation"
   ]
  },
  {
   "cell_type": "code",
   "execution_count": 27,
   "metadata": {},
   "outputs": [],
   "source": [
    "DF_metadata['passed_global_correlation'] = DF_metadata.index.isin(passed_global_corr)"
   ]
  },
  {
   "cell_type": "code",
   "execution_count": 28,
   "metadata": {},
   "outputs": [
    {
     "data": {
      "text/html": [
       "<div>\n",
       "<style scoped>\n",
       "    .dataframe tbody tr th:only-of-type {\n",
       "        vertical-align: middle;\n",
       "    }\n",
       "\n",
       "    .dataframe tbody tr th {\n",
       "        vertical-align: top;\n",
       "    }\n",
       "\n",
       "    .dataframe thead th {\n",
       "        text-align: right;\n",
       "    }\n",
       "</style>\n",
       "<table border=\"1\" class=\"dataframe\">\n",
       "  <thead>\n",
       "    <tr style=\"text-align: right;\">\n",
       "      <th></th>\n",
       "      <th>BioProject</th>\n",
       "      <th>BioSample</th>\n",
       "      <th>Body_Site</th>\n",
       "      <th>project</th>\n",
       "      <th>base_media</th>\n",
       "      <th>treatment</th>\n",
       "      <th>growth_phase</th>\n",
       "      <th>isolate</th>\n",
       "      <th>reference_condition</th>\n",
       "      <th>skip</th>\n",
       "      <th>...</th>\n",
       "      <th>Notes</th>\n",
       "      <th>SRA ID</th>\n",
       "      <th>Biosample</th>\n",
       "      <th>GEO Series</th>\n",
       "      <th>GEO Sample</th>\n",
       "      <th>PMID</th>\n",
       "      <th>passed_replicate_correlations</th>\n",
       "      <th>genetic_changes</th>\n",
       "      <th>name</th>\n",
       "      <th>condition</th>\n",
       "    </tr>\n",
       "  </thead>\n",
       "  <tbody>\n",
       "    <tr>\n",
       "      <th>CM_1</th>\n",
       "      <td>CcpA CodY interaction</td>\n",
       "      <td>NaN</td>\n",
       "      <td>NaN</td>\n",
       "      <td>CcpA CodY interaction</td>\n",
       "      <td>CA-MHB</td>\n",
       "      <td>Control</td>\n",
       "      <td>exp</td>\n",
       "      <td>JE2</td>\n",
       "      <td>Control</td>\n",
       "      <td>NaN</td>\n",
       "      <td>...</td>\n",
       "      <td>NaN</td>\n",
       "      <td>NaN</td>\n",
       "      <td>NaN</td>\n",
       "      <td>NaN</td>\n",
       "      <td>NaN</td>\n",
       "      <td>NaN</td>\n",
       "      <td>NaN</td>\n",
       "      <td>WT</td>\n",
       "      <td>NaN</td>\n",
       "      <td>NaN</td>\n",
       "    </tr>\n",
       "    <tr>\n",
       "      <th>CM_10</th>\n",
       "      <td>CcpA CodY interaction</td>\n",
       "      <td>NaN</td>\n",
       "      <td>NaN</td>\n",
       "      <td>CcpA CodY interaction</td>\n",
       "      <td>CA-MHB</td>\n",
       "      <td>None</td>\n",
       "      <td>exp</td>\n",
       "      <td>JE2</td>\n",
       "      <td>Control</td>\n",
       "      <td>NaN</td>\n",
       "      <td>...</td>\n",
       "      <td>NaN</td>\n",
       "      <td>NaN</td>\n",
       "      <td>NaN</td>\n",
       "      <td>NaN</td>\n",
       "      <td>NaN</td>\n",
       "      <td>NaN</td>\n",
       "      <td>NaN</td>\n",
       "      <td>marR_TF::bursa</td>\n",
       "      <td>NE1189</td>\n",
       "      <td>NaN</td>\n",
       "    </tr>\n",
       "    <tr>\n",
       "      <th>CM_11</th>\n",
       "      <td>CcpA CodY interaction</td>\n",
       "      <td>NaN</td>\n",
       "      <td>NaN</td>\n",
       "      <td>CcpA CodY interaction</td>\n",
       "      <td>CA-MHB</td>\n",
       "      <td>None</td>\n",
       "      <td>exp</td>\n",
       "      <td>JE2</td>\n",
       "      <td>Control</td>\n",
       "      <td>NaN</td>\n",
       "      <td>...</td>\n",
       "      <td>NaN</td>\n",
       "      <td>NaN</td>\n",
       "      <td>NaN</td>\n",
       "      <td>NaN</td>\n",
       "      <td>NaN</td>\n",
       "      <td>NaN</td>\n",
       "      <td>NaN</td>\n",
       "      <td>ilvA::bursa</td>\n",
       "      <td>NE340</td>\n",
       "      <td>NaN</td>\n",
       "    </tr>\n",
       "    <tr>\n",
       "      <th>CM_12</th>\n",
       "      <td>CcpA CodY interaction</td>\n",
       "      <td>NaN</td>\n",
       "      <td>NaN</td>\n",
       "      <td>CcpA CodY interaction</td>\n",
       "      <td>CA-MHB</td>\n",
       "      <td>None</td>\n",
       "      <td>exp</td>\n",
       "      <td>JE2</td>\n",
       "      <td>Control</td>\n",
       "      <td>NaN</td>\n",
       "      <td>...</td>\n",
       "      <td>NaN</td>\n",
       "      <td>NaN</td>\n",
       "      <td>NaN</td>\n",
       "      <td>NaN</td>\n",
       "      <td>NaN</td>\n",
       "      <td>NaN</td>\n",
       "      <td>NaN</td>\n",
       "      <td>ilvA::bursa</td>\n",
       "      <td>NE340</td>\n",
       "      <td>NaN</td>\n",
       "    </tr>\n",
       "    <tr>\n",
       "      <th>CM_13</th>\n",
       "      <td>CcpA CodY interaction</td>\n",
       "      <td>NaN</td>\n",
       "      <td>NaN</td>\n",
       "      <td>CcpA CodY interaction</td>\n",
       "      <td>CA-MHB</td>\n",
       "      <td>2g/Lglucose</td>\n",
       "      <td>exp</td>\n",
       "      <td>JE2</td>\n",
       "      <td>Control</td>\n",
       "      <td>NaN</td>\n",
       "      <td>...</td>\n",
       "      <td>NaN</td>\n",
       "      <td>NaN</td>\n",
       "      <td>NaN</td>\n",
       "      <td>NaN</td>\n",
       "      <td>NaN</td>\n",
       "      <td>NaN</td>\n",
       "      <td>NaN</td>\n",
       "      <td>ilvA::bursa</td>\n",
       "      <td>NE340</td>\n",
       "      <td>NaN</td>\n",
       "    </tr>\n",
       "  </tbody>\n",
       "</table>\n",
       "<p>5 rows × 57 columns</p>\n",
       "</div>"
      ],
      "text/plain": [
       "                  BioProject BioSample  Body_Site                project  \\\n",
       "CM_1   CcpA CodY interaction       NaN        NaN  CcpA CodY interaction   \n",
       "CM_10  CcpA CodY interaction       NaN        NaN  CcpA CodY interaction   \n",
       "CM_11  CcpA CodY interaction       NaN        NaN  CcpA CodY interaction   \n",
       "CM_12  CcpA CodY interaction       NaN        NaN  CcpA CodY interaction   \n",
       "CM_13  CcpA CodY interaction       NaN        NaN  CcpA CodY interaction   \n",
       "\n",
       "      base_media    treatment growth_phase isolate reference_condition  skip  \\\n",
       "CM_1      CA-MHB      Control          exp     JE2             Control   NaN   \n",
       "CM_10     CA-MHB         None          exp     JE2             Control   NaN   \n",
       "CM_11     CA-MHB         None          exp     JE2             Control   NaN   \n",
       "CM_12     CA-MHB         None          exp     JE2             Control   NaN   \n",
       "CM_13     CA-MHB  2g/Lglucose          exp     JE2             Control   NaN   \n",
       "\n",
       "       ...  Notes SRA ID  Biosample  GEO Series GEO Sample PMID  \\\n",
       "CM_1   ...    NaN    NaN        NaN         NaN        NaN  NaN   \n",
       "CM_10  ...    NaN    NaN        NaN         NaN        NaN  NaN   \n",
       "CM_11  ...    NaN    NaN        NaN         NaN        NaN  NaN   \n",
       "CM_12  ...    NaN    NaN        NaN         NaN        NaN  NaN   \n",
       "CM_13  ...    NaN    NaN        NaN         NaN        NaN  NaN   \n",
       "\n",
       "      passed_replicate_correlations genetic_changes    name condition  \n",
       "CM_1                            NaN              WT     NaN       NaN  \n",
       "CM_10                           NaN  marR_TF::bursa  NE1189       NaN  \n",
       "CM_11                           NaN     ilvA::bursa   NE340       NaN  \n",
       "CM_12                           NaN     ilvA::bursa   NE340       NaN  \n",
       "CM_13                           NaN     ilvA::bursa   NE340       NaN  \n",
       "\n",
       "[5 rows x 57 columns]"
      ]
     },
     "execution_count": 28,
     "metadata": {},
     "output_type": "execute_result"
    }
   ],
   "source": [
    "DF_metadata.head()"
   ]
  },
  {
   "cell_type": "markdown",
   "metadata": {},
   "source": [
    "# Remove failed samples"
   ]
  },
  {
   "cell_type": "code",
   "execution_count": 29,
   "metadata": {},
   "outputs": [],
   "source": [
    "qc_columns = ['passed_fastqc',\n",
    "              'passed_reads_mapped_to_CDS',\n",
    "              'passed_global_correlation']"
   ]
  },
  {
   "cell_type": "code",
   "execution_count": 30,
   "metadata": {},
   "outputs": [],
   "source": [
    "pass_qc = DF_metadata[qc_columns].all(axis=1)\n",
    "DF_metadata_passed = DF_metadata[pass_qc]"
   ]
  },
  {
   "cell_type": "markdown",
   "metadata": {},
   "source": [
    "# Fails because of 100% passing rate"
   ]
  },
  {
   "cell_type": "code",
   "execution_count": null,
   "metadata": {},
   "outputs": [],
   "source": [
    "_,_,pcts = plt.pie(pass_qc.value_counts().reindex([False,True]),\n",
    "        labels = ['Failed','Passed'],\n",
    "        colors=['tab:red','tab:blue'],\n",
    "        autopct='%.0f%%',textprops={'size':16});\n",
    "\n",
    "# Colors percents white\n",
    "for pct in pcts:\n",
    "    pct.set_color('white')"
   ]
  },
  {
   "cell_type": "markdown",
   "metadata": {},
   "source": [
    "# Save current metadata"
   ]
  },
  {
   "cell_type": "markdown",
   "metadata": {
    "tags": []
   },
   "source": [
    "Enter path of interim metadata files here. It is recommended that the ``metadata_qc.tsv`` file is copied to a new ``metadata_qc_curated.tsv`` file before editing. This will prevent this notebook from over-writing any curated metadata."
   ]
  },
  {
   "cell_type": "code",
   "execution_count": 32,
   "metadata": {},
   "outputs": [],
   "source": [
    "save_dir = '../data/interim/'"
   ]
  },
  {
   "cell_type": "code",
   "execution_count": 33,
   "metadata": {},
   "outputs": [],
   "source": [
    "metadata_all_qc_file = path.join(save_dir, 'metadata_qc_part1_all_new_data.tsv') # Enter filename for full metadata QC file\n",
    "metadata_qc_file = path.join(save_dir, 'metadata_qc_part1_new_data.tsv') # Enter filename for metadata QC file with only passing datasets"
   ]
  },
  {
   "cell_type": "code",
   "execution_count": 34,
   "metadata": {},
   "outputs": [],
   "source": [
    "DF_metadata.to_csv(metadata_all_qc_file, sep='\\t')\n",
    "DF_metadata_passed.to_csv(metadata_qc_file, sep='\\t')"
   ]
  },
  {
   "cell_type": "markdown",
   "metadata": {},
   "source": [
    "# Save log tpm"
   ]
  },
  {
   "cell_type": "code",
   "execution_count": 37,
   "metadata": {},
   "outputs": [],
   "source": [
    "log_tpm_file = path.join(save_dir, 'log_tpm_new_data.tsv')\n",
    "DF_log_tpm_passed_step3.to_csv(log_tpm_file)"
   ]
  },
  {
   "cell_type": "markdown",
   "metadata": {},
   "source": [
    "# Metadata Curation"
   ]
  },
  {
   "cell_type": "markdown",
   "metadata": {},
   "source": [
    "The next step is to curate the metadata. At a minimum, three new columns must be added to the metadata sheet:\n",
    "* ``project``: Nickname for the project. Each bioproject should have a unique project IDs.\n",
    "* ``condition``: Nickname for the experimental condition. Biological/technical replicates must have identical condition IDs.\n",
    "* ``reference_condition``: Condition ID of the reference condition. Each project has a single reference condition (See [example metadata sheet](https://github.com/SBRG/nf-rnaseq-bacteria/blob/master/example_data/processed_data/metadata_curated.tsv))\n",
    "\n",
    "Additional columns may include:\n",
    "* ``strain_description``: The strain name, and any knock-outs or overexpressed genes\n",
    "* ``base_media``: Media used (e.g. ``M9``)\n",
    "* ``carbon_source``: Primary carbon source, with concentration in parentheses (e.g. ``glucose(.4%)``). This is usually empty for undefined media.\n",
    "* ``nitrogen_source``: Primary nitrogen source, with concentration in parentheses (e.g. ``NH4Cl(1M)``). This is usually empty for undefined media.\n",
    "* ``aerobicity``: Usually ``aerobic`` or ``anaerobic``\n",
    "* ``treatment``: Any additional supplements or treatments added to the base media (e.g. ``thiamine(0.1M)`` or ``ampicillin(100ug/mL)``)\n",
    "* ``temperature``\n",
    "* ``pH``\n",
    "* ``OD``: Approximate optical density of cells when selected for library preparation\n",
    "* ``growth_phase``: e.g. ``mid-exponential`` or ``stationary``\n",
    "* ``culture_type``: Usually ``batch`` or ``chemostat``\n",
    "* ``skip``: Whether to skip a sample due to external reasons (e.g. not traditional RNA-seq, distant strain, or lack of metadata)\n",
    "\n",
    "If specific metadata entries are not reported for a sample, these can be left blank. However, if no metadata can be gleaned from public databases, then we recommend discarding the samples.\n",
    "\n",
    "Once the metadata has been curated, proceed to [Step 2](https://github.com/SBRG/nf-rnaseq-bacteria/blob/master/2_quality_control/expression_QC_part2.ipynb)"
   ]
  }
 ],
 "metadata": {
  "kernelspec": {
   "display_name": "Python 3 (ipykernel)",
   "language": "python",
   "name": "python3"
  },
  "language_info": {
   "codemirror_mode": {
    "name": "ipython",
    "version": 3
   },
   "file_extension": ".py",
   "mimetype": "text/x-python",
   "name": "python",
   "nbconvert_exporter": "python",
   "pygments_lexer": "ipython3",
   "version": "3.10.4"
  },
  "toc": {
   "base_numbering": 1,
   "nav_menu": {},
   "number_sections": true,
   "sideBar": true,
   "skip_h1_title": false,
   "title_cell": "Table of Contents",
   "title_sidebar": "Contents",
   "toc_cell": true,
   "toc_position": {},
   "toc_section_display": true,
   "toc_window_display": false
  }
 },
 "nbformat": 4,
 "nbformat_minor": 4
}
